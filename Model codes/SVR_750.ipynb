{
  "nbformat": 4,
  "nbformat_minor": 0,
  "metadata": {
    "colab": {
      "name": "SVR.ipynb",
      "provenance": []
    },
    "kernelspec": {
      "name": "python3",
      "display_name": "Python 3"
    },
    "accelerator": "TPU"
  },
  "cells": [
    {
      "cell_type": "code",
      "metadata": {
        "id": "ASro0LYdl9SI",
        "colab_type": "code",
        "colab": {}
      },
      "source": [
        "import numpy as np\n",
        "import pandas as pd\n",
        "from sklearn.preprocessing import OneHotEncoder\n",
        "import time"
      ],
      "execution_count": 0,
      "outputs": []
    },
    {
      "cell_type": "code",
      "metadata": {
        "id": "VMldH1CVnFQs",
        "colab_type": "code",
        "colab": {
          "base_uri": "https://localhost:8080/",
          "height": 51
        },
        "outputId": "dea4e787-8067-4dcf-9cb9-8409ea768f47"
      },
      "source": [
        "data = pd.read_csv('/content/y2015_to_2017_buffer_750.csv')\n",
        "\n",
        "# drop rows with any null value\n",
        "data.dropna(inplace = True)\n",
        "\n",
        "# drop columns:\n",
        "# remaining_lease: \n",
        "data.drop([\n",
        "    'geometry', # for processing only\n",
        "    'remaining_lease', # duplicate of remaining_lease_month\n",
        "    'street_name', # random\n",
        "    'address',  # random\n",
        "    'block', # random\n",
        "    'floor_area_sqm', # feature used to create target\n",
        "    'age_month', # highly correlated to remaining_lease_month\n",
        "    'lease_commence_date', # var used to create remaining_lease_month\n",
        "    'transaction_month', # limited use\n",
        "    'resale_price', # highly correlated to target\n",
        "    'month' # duplicate of transaction_date\n",
        "], axis=1, inplace=True)\n",
        "\n",
        "# log price_per_sqm\n",
        "data['price_per_sqm'] = data['price_per_sqm'].apply(lambda x: np.log(1 + x))\n",
        "\n",
        "# cut postal code to only be first 3 digits\n",
        "data['postal'] = data['postal'].apply(lambda x: int(str(x)[:3]))\n",
        "\n",
        "# change storey_range to average of floors, to change categorical to numerical\n",
        "data['storey_range'] = data['storey_range'].apply(lambda x: (int(x[:2]) + int(x[-2:]))/2)"
      ],
      "execution_count": 3,
      "outputs": [
        {
          "output_type": "stream",
          "text": [
            "/usr/local/lib/python3.6/dist-packages/IPython/core/interactiveshell.py:2718: DtypeWarning: Columns (9) have mixed types. Specify dtype option on import or set low_memory=False.\n",
            "  interactivity=interactivity, compiler=compiler, result=result)\n"
          ],
          "name": "stderr"
        }
      ]
    },
    {
      "cell_type": "code",
      "metadata": {
        "id": "Qf2taw1ZnJE_",
        "colab_type": "code",
        "colab": {
          "base_uri": "https://localhost:8080/",
          "height": 524
        },
        "outputId": "a2a4f21a-635a-4bd7-97bd-f60a882b4989"
      },
      "source": [
        "data"
      ],
      "execution_count": 4,
      "outputs": [
        {
          "output_type": "execute_result",
          "data": {
            "text/html": [
              "<div>\n",
              "<style scoped>\n",
              "    .dataframe tbody tr th:only-of-type {\n",
              "        vertical-align: middle;\n",
              "    }\n",
              "\n",
              "    .dataframe tbody tr th {\n",
              "        vertical-align: top;\n",
              "    }\n",
              "\n",
              "    .dataframe thead th {\n",
              "        text-align: right;\n",
              "    }\n",
              "</style>\n",
              "<table border=\"1\" class=\"dataframe\">\n",
              "  <thead>\n",
              "    <tr style=\"text-align: right;\">\n",
              "      <th></th>\n",
              "      <th>town</th>\n",
              "      <th>flat_type</th>\n",
              "      <th>storey_range</th>\n",
              "      <th>flat_model</th>\n",
              "      <th>transaction_year</th>\n",
              "      <th>price_per_sqm</th>\n",
              "      <th>remaining_lease_month</th>\n",
              "      <th>postal</th>\n",
              "      <th>mallCount</th>\n",
              "      <th>busInterchangeCount</th>\n",
              "      <th>sportsCount</th>\n",
              "      <th>hawkerCount</th>\n",
              "      <th>npParkCount</th>\n",
              "      <th>preschoolCount</th>\n",
              "      <th>primarySchCount</th>\n",
              "      <th>secondarySchCount</th>\n",
              "      <th>tertiarySchCount</th>\n",
              "      <th>dist_nearestMRT</th>\n",
              "    </tr>\n",
              "  </thead>\n",
              "  <tbody>\n",
              "    <tr>\n",
              "      <th>0</th>\n",
              "      <td>ANG MO KIO</td>\n",
              "      <td>3 ROOM</td>\n",
              "      <td>8.0</td>\n",
              "      <td>Improved</td>\n",
              "      <td>2015</td>\n",
              "      <td>8.354910</td>\n",
              "      <td>840.0</td>\n",
              "      <td>560</td>\n",
              "      <td>0.0</td>\n",
              "      <td>0.0</td>\n",
              "      <td>0.0</td>\n",
              "      <td>0.0</td>\n",
              "      <td>2.0</td>\n",
              "      <td>12.0</td>\n",
              "      <td>2.0</td>\n",
              "      <td>1.0</td>\n",
              "      <td>1.0</td>\n",
              "      <td>1.697526</td>\n",
              "    </tr>\n",
              "    <tr>\n",
              "      <th>1</th>\n",
              "      <td>ANG MO KIO</td>\n",
              "      <td>3 ROOM</td>\n",
              "      <td>2.0</td>\n",
              "      <td>New Generation</td>\n",
              "      <td>2015</td>\n",
              "      <td>8.305266</td>\n",
              "      <td>780.0</td>\n",
              "      <td>560</td>\n",
              "      <td>0.0</td>\n",
              "      <td>0.0</td>\n",
              "      <td>0.0</td>\n",
              "      <td>0.0</td>\n",
              "      <td>0.0</td>\n",
              "      <td>9.0</td>\n",
              "      <td>1.0</td>\n",
              "      <td>1.0</td>\n",
              "      <td>0.0</td>\n",
              "      <td>0.497407</td>\n",
              "    </tr>\n",
              "    <tr>\n",
              "      <th>2</th>\n",
              "      <td>ANG MO KIO</td>\n",
              "      <td>3 ROOM</td>\n",
              "      <td>2.0</td>\n",
              "      <td>New Generation</td>\n",
              "      <td>2015</td>\n",
              "      <td>8.326379</td>\n",
              "      <td>768.0</td>\n",
              "      <td>560</td>\n",
              "      <td>0.0</td>\n",
              "      <td>0.0</td>\n",
              "      <td>0.0</td>\n",
              "      <td>0.0</td>\n",
              "      <td>2.0</td>\n",
              "      <td>11.0</td>\n",
              "      <td>2.0</td>\n",
              "      <td>2.0</td>\n",
              "      <td>1.0</td>\n",
              "      <td>1.697526</td>\n",
              "    </tr>\n",
              "    <tr>\n",
              "      <th>3</th>\n",
              "      <td>ANG MO KIO</td>\n",
              "      <td>3 ROOM</td>\n",
              "      <td>2.0</td>\n",
              "      <td>New Generation</td>\n",
              "      <td>2015</td>\n",
              "      <td>8.326379</td>\n",
              "      <td>756.0</td>\n",
              "      <td>560</td>\n",
              "      <td>0.0</td>\n",
              "      <td>0.0</td>\n",
              "      <td>0.0</td>\n",
              "      <td>0.0</td>\n",
              "      <td>2.0</td>\n",
              "      <td>11.0</td>\n",
              "      <td>2.0</td>\n",
              "      <td>2.0</td>\n",
              "      <td>1.0</td>\n",
              "      <td>1.697526</td>\n",
              "    </tr>\n",
              "    <tr>\n",
              "      <th>4</th>\n",
              "      <td>ANG MO KIO</td>\n",
              "      <td>3 ROOM</td>\n",
              "      <td>2.0</td>\n",
              "      <td>New Generation</td>\n",
              "      <td>2015</td>\n",
              "      <td>8.358364</td>\n",
              "      <td>756.0</td>\n",
              "      <td>560</td>\n",
              "      <td>0.0</td>\n",
              "      <td>0.0</td>\n",
              "      <td>0.0</td>\n",
              "      <td>0.0</td>\n",
              "      <td>0.0</td>\n",
              "      <td>11.0</td>\n",
              "      <td>2.0</td>\n",
              "      <td>1.0</td>\n",
              "      <td>0.0</td>\n",
              "      <td>0.497407</td>\n",
              "    </tr>\n",
              "    <tr>\n",
              "      <th>...</th>\n",
              "      <td>...</td>\n",
              "      <td>...</td>\n",
              "      <td>...</td>\n",
              "      <td>...</td>\n",
              "      <td>...</td>\n",
              "      <td>...</td>\n",
              "      <td>...</td>\n",
              "      <td>...</td>\n",
              "      <td>...</td>\n",
              "      <td>...</td>\n",
              "      <td>...</td>\n",
              "      <td>...</td>\n",
              "      <td>...</td>\n",
              "      <td>...</td>\n",
              "      <td>...</td>\n",
              "      <td>...</td>\n",
              "      <td>...</td>\n",
              "      <td>...</td>\n",
              "    </tr>\n",
              "    <tr>\n",
              "      <th>108925</th>\n",
              "      <td>YISHUN</td>\n",
              "      <td>EXECUTIVE</td>\n",
              "      <td>2.0</td>\n",
              "      <td>Maisonette</td>\n",
              "      <td>2020</td>\n",
              "      <td>8.232073</td>\n",
              "      <td>809.0</td>\n",
              "      <td>761</td>\n",
              "      <td>0.0</td>\n",
              "      <td>0.0</td>\n",
              "      <td>0.0</td>\n",
              "      <td>0.0</td>\n",
              "      <td>1.0</td>\n",
              "      <td>15.0</td>\n",
              "      <td>3.0</td>\n",
              "      <td>1.0</td>\n",
              "      <td>0.0</td>\n",
              "      <td>0.630638</td>\n",
              "    </tr>\n",
              "    <tr>\n",
              "      <th>108926</th>\n",
              "      <td>YISHUN</td>\n",
              "      <td>EXECUTIVE</td>\n",
              "      <td>2.0</td>\n",
              "      <td>Apartment</td>\n",
              "      <td>2020</td>\n",
              "      <td>8.307923</td>\n",
              "      <td>857.0</td>\n",
              "      <td>760</td>\n",
              "      <td>1.0</td>\n",
              "      <td>1.0</td>\n",
              "      <td>1.0</td>\n",
              "      <td>1.0</td>\n",
              "      <td>0.0</td>\n",
              "      <td>12.0</td>\n",
              "      <td>2.0</td>\n",
              "      <td>2.0</td>\n",
              "      <td>1.0</td>\n",
              "      <td>0.654036</td>\n",
              "    </tr>\n",
              "    <tr>\n",
              "      <th>108927</th>\n",
              "      <td>YISHUN</td>\n",
              "      <td>EXECUTIVE</td>\n",
              "      <td>2.0</td>\n",
              "      <td>Maisonette</td>\n",
              "      <td>2020</td>\n",
              "      <td>8.260348</td>\n",
              "      <td>803.0</td>\n",
              "      <td>760</td>\n",
              "      <td>2.0</td>\n",
              "      <td>1.0</td>\n",
              "      <td>1.0</td>\n",
              "      <td>1.0</td>\n",
              "      <td>0.0</td>\n",
              "      <td>13.0</td>\n",
              "      <td>2.0</td>\n",
              "      <td>3.0</td>\n",
              "      <td>0.0</td>\n",
              "      <td>0.654036</td>\n",
              "    </tr>\n",
              "    <tr>\n",
              "      <th>108928</th>\n",
              "      <td>YISHUN</td>\n",
              "      <td>EXECUTIVE</td>\n",
              "      <td>2.0</td>\n",
              "      <td>Maisonette</td>\n",
              "      <td>2020</td>\n",
              "      <td>8.234331</td>\n",
              "      <td>803.0</td>\n",
              "      <td>760</td>\n",
              "      <td>1.0</td>\n",
              "      <td>0.0</td>\n",
              "      <td>1.0</td>\n",
              "      <td>1.0</td>\n",
              "      <td>0.0</td>\n",
              "      <td>15.0</td>\n",
              "      <td>3.0</td>\n",
              "      <td>3.0</td>\n",
              "      <td>0.0</td>\n",
              "      <td>0.654036</td>\n",
              "    </tr>\n",
              "    <tr>\n",
              "      <th>108929</th>\n",
              "      <td>YISHUN</td>\n",
              "      <td>EXECUTIVE</td>\n",
              "      <td>2.0</td>\n",
              "      <td>Apartment</td>\n",
              "      <td>2020</td>\n",
              "      <td>8.376972</td>\n",
              "      <td>803.0</td>\n",
              "      <td>760</td>\n",
              "      <td>0.0</td>\n",
              "      <td>0.0</td>\n",
              "      <td>1.0</td>\n",
              "      <td>1.0</td>\n",
              "      <td>0.0</td>\n",
              "      <td>7.0</td>\n",
              "      <td>2.0</td>\n",
              "      <td>3.0</td>\n",
              "      <td>0.0</td>\n",
              "      <td>0.192997</td>\n",
              "    </tr>\n",
              "  </tbody>\n",
              "</table>\n",
              "<p>106767 rows × 18 columns</p>\n",
              "</div>"
            ],
            "text/plain": [
              "              town  flat_type  ...  tertiarySchCount dist_nearestMRT\n",
              "0       ANG MO KIO     3 ROOM  ...               1.0        1.697526\n",
              "1       ANG MO KIO     3 ROOM  ...               0.0        0.497407\n",
              "2       ANG MO KIO     3 ROOM  ...               1.0        1.697526\n",
              "3       ANG MO KIO     3 ROOM  ...               1.0        1.697526\n",
              "4       ANG MO KIO     3 ROOM  ...               0.0        0.497407\n",
              "...            ...        ...  ...               ...             ...\n",
              "108925      YISHUN  EXECUTIVE  ...               0.0        0.630638\n",
              "108926      YISHUN  EXECUTIVE  ...               1.0        0.654036\n",
              "108927      YISHUN  EXECUTIVE  ...               0.0        0.654036\n",
              "108928      YISHUN  EXECUTIVE  ...               0.0        0.654036\n",
              "108929      YISHUN  EXECUTIVE  ...               0.0        0.192997\n",
              "\n",
              "[106767 rows x 18 columns]"
            ]
          },
          "metadata": {
            "tags": []
          },
          "execution_count": 4
        }
      ]
    },
    {
      "cell_type": "code",
      "metadata": {
        "id": "PJgXjgvNnKOg",
        "colab_type": "code",
        "colab": {
          "base_uri": "https://localhost:8080/",
          "height": 394
        },
        "outputId": "596983a7-915c-498e-c059-149face97312"
      },
      "source": [
        "data.head()"
      ],
      "execution_count": 5,
      "outputs": [
        {
          "output_type": "execute_result",
          "data": {
            "text/html": [
              "<div>\n",
              "<style scoped>\n",
              "    .dataframe tbody tr th:only-of-type {\n",
              "        vertical-align: middle;\n",
              "    }\n",
              "\n",
              "    .dataframe tbody tr th {\n",
              "        vertical-align: top;\n",
              "    }\n",
              "\n",
              "    .dataframe thead th {\n",
              "        text-align: right;\n",
              "    }\n",
              "</style>\n",
              "<table border=\"1\" class=\"dataframe\">\n",
              "  <thead>\n",
              "    <tr style=\"text-align: right;\">\n",
              "      <th></th>\n",
              "      <th>town</th>\n",
              "      <th>flat_type</th>\n",
              "      <th>storey_range</th>\n",
              "      <th>flat_model</th>\n",
              "      <th>transaction_year</th>\n",
              "      <th>price_per_sqm</th>\n",
              "      <th>remaining_lease_month</th>\n",
              "      <th>postal</th>\n",
              "      <th>mallCount</th>\n",
              "      <th>busInterchangeCount</th>\n",
              "      <th>sportsCount</th>\n",
              "      <th>hawkerCount</th>\n",
              "      <th>npParkCount</th>\n",
              "      <th>preschoolCount</th>\n",
              "      <th>primarySchCount</th>\n",
              "      <th>secondarySchCount</th>\n",
              "      <th>tertiarySchCount</th>\n",
              "      <th>dist_nearestMRT</th>\n",
              "    </tr>\n",
              "  </thead>\n",
              "  <tbody>\n",
              "    <tr>\n",
              "      <th>0</th>\n",
              "      <td>ANG MO KIO</td>\n",
              "      <td>3 ROOM</td>\n",
              "      <td>8.0</td>\n",
              "      <td>Improved</td>\n",
              "      <td>2015</td>\n",
              "      <td>8.354910</td>\n",
              "      <td>840.0</td>\n",
              "      <td>560</td>\n",
              "      <td>0.0</td>\n",
              "      <td>0.0</td>\n",
              "      <td>0.0</td>\n",
              "      <td>0.0</td>\n",
              "      <td>2.0</td>\n",
              "      <td>12.0</td>\n",
              "      <td>2.0</td>\n",
              "      <td>1.0</td>\n",
              "      <td>1.0</td>\n",
              "      <td>1.697526</td>\n",
              "    </tr>\n",
              "    <tr>\n",
              "      <th>1</th>\n",
              "      <td>ANG MO KIO</td>\n",
              "      <td>3 ROOM</td>\n",
              "      <td>2.0</td>\n",
              "      <td>New Generation</td>\n",
              "      <td>2015</td>\n",
              "      <td>8.305266</td>\n",
              "      <td>780.0</td>\n",
              "      <td>560</td>\n",
              "      <td>0.0</td>\n",
              "      <td>0.0</td>\n",
              "      <td>0.0</td>\n",
              "      <td>0.0</td>\n",
              "      <td>0.0</td>\n",
              "      <td>9.0</td>\n",
              "      <td>1.0</td>\n",
              "      <td>1.0</td>\n",
              "      <td>0.0</td>\n",
              "      <td>0.497407</td>\n",
              "    </tr>\n",
              "    <tr>\n",
              "      <th>2</th>\n",
              "      <td>ANG MO KIO</td>\n",
              "      <td>3 ROOM</td>\n",
              "      <td>2.0</td>\n",
              "      <td>New Generation</td>\n",
              "      <td>2015</td>\n",
              "      <td>8.326379</td>\n",
              "      <td>768.0</td>\n",
              "      <td>560</td>\n",
              "      <td>0.0</td>\n",
              "      <td>0.0</td>\n",
              "      <td>0.0</td>\n",
              "      <td>0.0</td>\n",
              "      <td>2.0</td>\n",
              "      <td>11.0</td>\n",
              "      <td>2.0</td>\n",
              "      <td>2.0</td>\n",
              "      <td>1.0</td>\n",
              "      <td>1.697526</td>\n",
              "    </tr>\n",
              "    <tr>\n",
              "      <th>3</th>\n",
              "      <td>ANG MO KIO</td>\n",
              "      <td>3 ROOM</td>\n",
              "      <td>2.0</td>\n",
              "      <td>New Generation</td>\n",
              "      <td>2015</td>\n",
              "      <td>8.326379</td>\n",
              "      <td>756.0</td>\n",
              "      <td>560</td>\n",
              "      <td>0.0</td>\n",
              "      <td>0.0</td>\n",
              "      <td>0.0</td>\n",
              "      <td>0.0</td>\n",
              "      <td>2.0</td>\n",
              "      <td>11.0</td>\n",
              "      <td>2.0</td>\n",
              "      <td>2.0</td>\n",
              "      <td>1.0</td>\n",
              "      <td>1.697526</td>\n",
              "    </tr>\n",
              "    <tr>\n",
              "      <th>4</th>\n",
              "      <td>ANG MO KIO</td>\n",
              "      <td>3 ROOM</td>\n",
              "      <td>2.0</td>\n",
              "      <td>New Generation</td>\n",
              "      <td>2015</td>\n",
              "      <td>8.358364</td>\n",
              "      <td>756.0</td>\n",
              "      <td>560</td>\n",
              "      <td>0.0</td>\n",
              "      <td>0.0</td>\n",
              "      <td>0.0</td>\n",
              "      <td>0.0</td>\n",
              "      <td>0.0</td>\n",
              "      <td>11.0</td>\n",
              "      <td>2.0</td>\n",
              "      <td>1.0</td>\n",
              "      <td>0.0</td>\n",
              "      <td>0.497407</td>\n",
              "    </tr>\n",
              "  </tbody>\n",
              "</table>\n",
              "</div>"
            ],
            "text/plain": [
              "         town flat_type  ...  tertiarySchCount dist_nearestMRT\n",
              "0  ANG MO KIO    3 ROOM  ...               1.0        1.697526\n",
              "1  ANG MO KIO    3 ROOM  ...               0.0        0.497407\n",
              "2  ANG MO KIO    3 ROOM  ...               1.0        1.697526\n",
              "3  ANG MO KIO    3 ROOM  ...               1.0        1.697526\n",
              "4  ANG MO KIO    3 ROOM  ...               0.0        0.497407\n",
              "\n",
              "[5 rows x 18 columns]"
            ]
          },
          "metadata": {
            "tags": []
          },
          "execution_count": 5
        }
      ]
    },
    {
      "cell_type": "code",
      "metadata": {
        "id": "aj0hYLggnGHn",
        "colab_type": "code",
        "colab": {}
      },
      "source": [
        "# categorical_vars = ['town', 'flat_type', 'block', 'street_name', 'storey_range', 'flat_model']\n",
        "categorical_vars = [['town', 'town'], ['flat_type', 'ft'], ['flat_model', 'fm']]\n",
        "\n",
        "for cat in categorical_vars:\n",
        "    data[cat[0]] = pd.Categorical(data[cat[0]])\n",
        "    catDummies = pd.get_dummies(data[cat[0]], prefix = cat[1])\n",
        "    data = pd.concat([data, catDummies], axis=1)\n",
        "    data.drop(cat[0], axis=1, inplace=True)"
      ],
      "execution_count": 0,
      "outputs": []
    },
    {
      "cell_type": "code",
      "metadata": {
        "id": "Q58CTjO-nMp7",
        "colab_type": "code",
        "colab": {
          "base_uri": "https://localhost:8080/",
          "height": 34
        },
        "outputId": "05e3bcf0-a00b-4cad-f592-26e1d2ecdabc"
      },
      "source": [
        "data.shape"
      ],
      "execution_count": 7,
      "outputs": [
        {
          "output_type": "execute_result",
          "data": {
            "text/plain": [
              "(106767, 68)"
            ]
          },
          "metadata": {
            "tags": []
          },
          "execution_count": 7
        }
      ]
    },
    {
      "cell_type": "code",
      "metadata": {
        "id": "9Yyz1sbNnOIB",
        "colab_type": "code",
        "colab": {}
      },
      "source": [
        "from sklearn.svm import SVR\n",
        "from sklearn.metrics import mean_squared_error\n",
        "from sklearn.preprocessing import StandardScaler, LabelEncoder\n",
        "from sklearn.model_selection import train_test_split"
      ],
      "execution_count": 0,
      "outputs": []
    },
    {
      "cell_type": "code",
      "metadata": {
        "id": "7p0kk-UHnPo3",
        "colab_type": "code",
        "colab": {
          "base_uri": "https://localhost:8080/",
          "height": 255
        },
        "outputId": "c6a8a703-2020-4ab4-97dc-21f87bf27790"
      },
      "source": [
        "#Seperate datasets\n",
        "\n",
        "X = data.drop('price_per_sqm', axis=1)\n",
        "Y = data['price_per_sqm']\n",
        "\n",
        "print(X.shape)\n",
        "print(Y.shape)\n",
        "\n",
        "X.dtypes"
      ],
      "execution_count": 9,
      "outputs": [
        {
          "output_type": "stream",
          "text": [
            "(106767, 67)\n",
            "(106767,)\n"
          ],
          "name": "stdout"
        },
        {
          "output_type": "execute_result",
          "data": {
            "text/plain": [
              "storey_range             float64\n",
              "transaction_year           int64\n",
              "remaining_lease_month    float64\n",
              "postal                     int64\n",
              "mallCount                float64\n",
              "                          ...   \n",
              "fm_Simplified              uint8\n",
              "fm_Standard                uint8\n",
              "fm_Terrace                 uint8\n",
              "fm_Type S1                 uint8\n",
              "fm_Type S2                 uint8\n",
              "Length: 67, dtype: object"
            ]
          },
          "metadata": {
            "tags": []
          },
          "execution_count": 9
        }
      ]
    },
    {
      "cell_type": "code",
      "metadata": {
        "id": "7N8I7Q1PnRAe",
        "colab_type": "code",
        "colab": {}
      },
      "source": [
        "x_train, x_test, y_train, y_test = train_test_split(X, Y, test_size=0.2, random_state=42)\n",
        "\n",
        "# Support Vector Regression with different kernels\n",
        "svr_rbf = SVR(kernel='rbf',cache_size=1000, gamma='auto')"
      ],
      "execution_count": 0,
      "outputs": []
    },
    {
      "cell_type": "code",
      "metadata": {
        "id": "ueAkk5J3nSgy",
        "colab_type": "code",
        "colab": {
          "base_uri": "https://localhost:8080/",
          "height": 51
        },
        "outputId": "258c9bb8-bdd0-47bc-e4de-54e15400c5dc"
      },
      "source": [
        "svr_rbf.fit(x_train, y_train)\n",
        "%time"
      ],
      "execution_count": 11,
      "outputs": [
        {
          "output_type": "stream",
          "text": [
            "CPU times: user 3 µs, sys: 0 ns, total: 3 µs\n",
            "Wall time: 6.91 µs\n"
          ],
          "name": "stdout"
        }
      ]
    },
    {
      "cell_type": "code",
      "metadata": {
        "id": "FyLCkULKnUmD",
        "colab_type": "code",
        "colab": {
          "base_uri": "https://localhost:8080/",
          "height": 85
        },
        "outputId": "7e9854a5-4b75-4a22-cbcf-f5ef836c0cec"
      },
      "source": [
        "pred_svr_rbf = svr_rbf.predict(x_test)\n",
        "%time"
      ],
      "execution_count": 12,
      "outputs": [
        {
          "output_type": "stream",
          "text": [
            "CPU times: user 2 µs, sys: 0 ns, total: 2 µs\n",
            "Wall time: 11 µs\n",
            "CPU times: user 2 µs, sys: 0 ns, total: 2 µs\n",
            "Wall time: 11 µs\n"
          ],
          "name": "stdout"
        }
      ]
    },
    {
      "cell_type": "code",
      "metadata": {
        "id": "Pi_xhsJ_nVEV",
        "colab_type": "code",
        "colab": {
          "base_uri": "https://localhost:8080/",
          "height": 34
        },
        "outputId": "695c98d3-7e58-4978-8ab7-156048f5a0ec"
      },
      "source": [
        "from sklearn.metrics import mean_absolute_error, r2_score\n",
        "r2 = r2_score(y_test.values, pred_svr_rbf)\n",
        "\n",
        "r2"
      ],
      "execution_count": 13,
      "outputs": [
        {
          "output_type": "execute_result",
          "data": {
            "text/plain": [
              "0.8909828697243258"
            ]
          },
          "metadata": {
            "tags": []
          },
          "execution_count": 13
        },
        {
          "output_type": "execute_result",
          "data": {
            "text/plain": [
              "0.8909828697243258"
            ]
          },
          "metadata": {
            "tags": []
          },
          "execution_count": 13
        }
      ]
    },
    {
      "cell_type": "code",
      "metadata": {
        "id": "TBLjcy6EnWBn",
        "colab_type": "code",
        "colab": {
          "base_uri": "https://localhost:8080/",
          "height": 686
        },
        "outputId": "55b4b5f2-3393-45c5-bd35-9503ef67e7f5"
      },
      "source": [
        "from sklearn.metrics import r2_score\n",
        "from rfpimp import permutation_importances\n",
        "\n",
        "def r2(RFR, x_train, y_train):\n",
        "    return r2_score(y_train, RFR.predict(x_train))\n",
        "\n",
        "perm_imp_rfpimp = permutation_importances(svr_rbf, x_train, y_train, r2)\n",
        "\n",
        "# visualisations\n",
        "import seaborn as sns\n",
        "import matplotlib.pyplot as plt\n",
        "%matplotlib inline\n",
        "sns.set_style(\"whitegrid\")\n",
        "sns.set(rc = {'figure.figsize':(15, 10)})\n",
        "\n",
        "# plotting a feature importance dataframe (horizontal barchart)\n",
        "\n",
        "def var_imp_plot(imp_df, title):\n",
        "    imp_df = imp_df.reset_index()\n",
        "    imp_df.columns = ['feature', 'feature_importance']\n",
        "    sns.barplot(x = 'feature_importance', y = 'feature', data = imp_df, orient = 'h', color = 'royalblue').set_title(title, fontsize = 20)\n",
        "\n",
        "var_imp_plot(perm_imp_rfpimp, 'Permutation feature importance (rfpimp)')\n"
      ],
      "execution_count": 16,
      "outputs": [
        {
          "output_type": "stream",
          "text": [
            "/usr/local/lib/python3.6/dist-packages/sklearn/utils/deprecation.py:144: FutureWarning: The sklearn.ensemble.forest module is  deprecated in version 0.22 and will be removed in version 0.24. The corresponding classes / functions should instead be imported from sklearn.ensemble. Anything that cannot be imported from sklearn.ensemble is now part of the private API.\n",
            "  warnings.warn(message, FutureWarning)\n"
          ],
          "name": "stderr"
        },
        {
          "output_type": "display_data",
          "data": {
            "image/png": "[encoded data removed]",
            "text/plain": [
              "<Figure size 1080x720 with 1 Axes>"
            ]
          },
          "metadata": {
            "tags": []
          }
        }
      ]
    },
    {
      "cell_type": "code",
      "metadata": {
        "id": "X8WECCCKoPNB",
        "colab_type": "code",
        "colab": {
          "base_uri": "https://localhost:8080/",
          "height": 408
        },
        "outputId": "ef225cc4-0358-4170-b0d9-2de99bdb90e0"
      },
      "source": [
        "!pip install rfpimp"
      ],
      "execution_count": 15,
      "outputs": [
        {
          "output_type": "stream",
          "text": [
            "Collecting rfpimp\n",
            "  Downloading https://files.pythonhosted.org/packages/2f/18/6cd65df0fc465332f1dd847ac236298974bd8b97daf0121744ed939600fd/rfpimp-1.3.4.tar.gz\n",
            "Requirement already satisfied: numpy in /usr/local/lib/python3.6/dist-packages (from rfpimp) (1.18.2)\n",
            "Requirement already satisfied: pandas in /usr/local/lib/python3.6/dist-packages (from rfpimp) (0.25.3)\n",
            "Requirement already satisfied: sklearn in /usr/local/lib/python3.6/dist-packages (from rfpimp) (0.0)\n",
            "Requirement already satisfied: matplotlib in /usr/local/lib/python3.6/dist-packages (from rfpimp) (3.2.0)\n",
            "Requirement already satisfied: python-dateutil>=2.6.1 in /usr/local/lib/python3.6/dist-packages (from pandas->rfpimp) (2.8.1)\n",
            "Requirement already satisfied: pytz>=2017.2 in /usr/local/lib/python3.6/dist-packages (from pandas->rfpimp) (2018.9)\n",
            "Requirement already satisfied: scikit-learn in /usr/local/lib/python3.6/dist-packages (from sklearn->rfpimp) (0.22.2.post1)\n",
            "Requirement already satisfied: pyparsing!=2.0.4,!=2.1.2,!=2.1.6,>=2.0.1 in /usr/local/lib/python3.6/dist-packages (from matplotlib->rfpimp) (2.4.6)\n",
            "Requirement already satisfied: kiwisolver>=1.0.1 in /usr/local/lib/python3.6/dist-packages (from matplotlib->rfpimp) (1.1.0)\n",
            "Requirement already satisfied: cycler>=0.10 in /usr/local/lib/python3.6/dist-packages (from matplotlib->rfpimp) (0.10.0)\n",
            "Requirement already satisfied: six>=1.5 in /usr/local/lib/python3.6/dist-packages (from python-dateutil>=2.6.1->pandas->rfpimp) (1.12.0)\n",
            "Requirement already satisfied: joblib>=0.11 in /usr/local/lib/python3.6/dist-packages (from scikit-learn->sklearn->rfpimp) (0.14.1)\n",
            "Requirement already satisfied: scipy>=0.17.0 in /usr/local/lib/python3.6/dist-packages (from scikit-learn->sklearn->rfpimp) (1.4.1)\n",
            "Requirement already satisfied: setuptools in /usr/local/lib/python3.6/dist-packages (from kiwisolver>=1.0.1->matplotlib->rfpimp) (46.0.0)\n",
            "Building wheels for collected packages: rfpimp\n",
            "  Building wheel for rfpimp (setup.py) ... \u001b[?25l\u001b[?25hdone\n",
            "  Created wheel for rfpimp: filename=rfpimp-1.3.4-cp36-none-any.whl size=10086 sha256=2c49e2f77630d2079459a23400e9d68a9c28c8c053d3363921e3ae2d9b298951\n",
            "  Stored in directory: /root/.cache/pip/wheels/c7/35/67/4065afd69df4c0be693ecdec8a9c1433a23f80ee60395272ba\n",
            "Successfully built rfpimp\n",
            "Installing collected packages: rfpimp\n",
            "Successfully installed rfpimp-1.3.4\n"
          ],
          "name": "stdout"
        }
      ]
    }
  ]
}