{
 "cells": [
  {
   "cell_type": "code",
   "execution_count": 0,
   "metadata": {
    "colab": {},
    "colab_type": "code",
    "id": "5TPUxxUYp37g"
   },
   "outputs": [],
   "source": [
    "import numpy as np\n",
    "import pandas as pd\n",
    "from sklearn.preprocessing import OneHotEncoder"
   ]
  },
  {
   "cell_type": "code",
   "execution_count": 2,
   "metadata": {
    "colab": {
     "base_uri": "https://localhost:8080/",
     "height": 51
    },
    "colab_type": "code",
    "id": "e5pURP4eqGVc",
    "outputId": "faaa6ce1-08cd-4aac-c40e-fd3cfb356e7a"
   },
   "outputs": [
    {
     "name": "stderr",
     "output_type": "stream",
     "text": [
      "/usr/local/lib/python3.6/dist-packages/IPython/core/interactiveshell.py:2718: DtypeWarning: Columns (9) have mixed types. Specify dtype option on import or set low_memory=False.\n",
      "  interactivity=interactivity, compiler=compiler, result=result)\n"
     ]
    }
   ],
   "source": [
    "resaleflat1 = pd.read_csv('/content/y2015_to_2017_buffer_1500.csv')\n",
    "#resaleflat2 = pd.read_csv('resale-flat-prices-based-on-approval-date-2000-feb-2012.csv')\n",
    "resaleflat2 = pd.read_csv('/content/y2015_to_2017_buffer_750.csv')\n",
    "\n",
    "\n",
    "#resaleflat1 = resaleflat.copy()\n",
    "resaleflatview = resaleflat1.copy()\n",
    "\n",
    "locations = pd.read_csv('street_to_MRT.csv')\n",
    "locations = locations.drop('Unnamed: 0', axis=1)"
   ]
  },
  {
   "cell_type": "code",
   "execution_count": 0,
   "metadata": {
    "colab": {},
    "colab_type": "code",
    "id": "Lh88b7zfpxiW"
   },
   "outputs": [],
   "source": [
    "locations = locations[-locations.duplicated(keep='first',subset='street_name')]"
   ]
  },
  {
   "cell_type": "code",
   "execution_count": 0,
   "metadata": {
    "colab": {},
    "colab_type": "code",
    "id": "G-kxXPVWpyNF"
   },
   "outputs": [],
   "source": [
    "resaleflat1 = pd.merge(resaleflat1,locations,how='left')"
   ]
  },
  {
   "cell_type": "code",
   "execution_count": 5,
   "metadata": {
    "colab": {
     "base_uri": "https://localhost:8080/",
     "height": 527
    },
    "colab_type": "code",
    "id": "qNyOK5vGp85X",
    "outputId": "905ab86c-4868-4506-c46e-2e7f56c2d7f1"
   },
   "outputs": [
    {
     "data": {
      "text/plain": [
       "month                       0\n",
       "town                        0\n",
       "flat_type                   0\n",
       "block                       0\n",
       "street_name                 0\n",
       "storey_range                0\n",
       "floor_area_sqm              0\n",
       "flat_model                  0\n",
       "lease_commence_date         0\n",
       "remaining_lease             0\n",
       "resale_price                0\n",
       "price_per_sqm            2158\n",
       "age_month                2158\n",
       "remaining_lease_month    2158\n",
       "postal                   2163\n",
       "address                  2158\n",
       "geometry                 2158\n",
       "mallCount                2158\n",
       "busInterchangeCount      2158\n",
       "sportsCount              2158\n",
       "hawkerCount              2158\n",
       "npParkCount              2158\n",
       "preschoolCount           2158\n",
       "primarySchCount          2158\n",
       "secondarySchCount        2158\n",
       "tertiarySchCount         2158\n",
       "dist_nearestMRT          2158\n",
       "transaction_year            0\n",
       "transaction_month           0\n",
       "dtype: int64"
      ]
     },
     "execution_count": 5,
     "metadata": {
      "tags": []
     },
     "output_type": "execute_result"
    }
   ],
   "source": [
    "resaleflat1.isnull().sum()\n",
    "\n",
    "#Remaining lease has a lot of null, need to fix"
   ]
  },
  {
   "cell_type": "code",
   "execution_count": 6,
   "metadata": {
    "colab": {
     "base_uri": "https://localhost:8080/",
     "height": 683
    },
    "colab_type": "code",
    "id": "-NoT1mAjqV_f",
    "outputId": "b14d9b2e-ada5-4372-9cc3-6647b7766cce"
   },
   "outputs": [
    {
     "data": {
      "text/html": [
       "<div>\n",
       "<style scoped>\n",
       "    .dataframe tbody tr th:only-of-type {\n",
       "        vertical-align: middle;\n",
       "    }\n",
       "\n",
       "    .dataframe tbody tr th {\n",
       "        vertical-align: top;\n",
       "    }\n",
       "\n",
       "    .dataframe thead th {\n",
       "        text-align: right;\n",
       "    }\n",
       "</style>\n",
       "<table border=\"1\" class=\"dataframe\">\n",
       "  <thead>\n",
       "    <tr style=\"text-align: right;\">\n",
       "      <th></th>\n",
       "      <th>month</th>\n",
       "      <th>town</th>\n",
       "      <th>flat_type</th>\n",
       "      <th>block</th>\n",
       "      <th>street_name</th>\n",
       "      <th>storey_range</th>\n",
       "      <th>floor_area_sqm</th>\n",
       "      <th>flat_model</th>\n",
       "      <th>lease_commence_date</th>\n",
       "      <th>remaining_lease</th>\n",
       "      <th>resale_price</th>\n",
       "      <th>price_per_sqm</th>\n",
       "      <th>age_month</th>\n",
       "      <th>remaining_lease_month</th>\n",
       "      <th>postal</th>\n",
       "      <th>address</th>\n",
       "      <th>geometry</th>\n",
       "      <th>mallCount</th>\n",
       "      <th>busInterchangeCount</th>\n",
       "      <th>sportsCount</th>\n",
       "      <th>hawkerCount</th>\n",
       "      <th>npParkCount</th>\n",
       "      <th>preschoolCount</th>\n",
       "      <th>primarySchCount</th>\n",
       "      <th>secondarySchCount</th>\n",
       "      <th>tertiarySchCount</th>\n",
       "      <th>dist_nearestMRT</th>\n",
       "      <th>transaction_year</th>\n",
       "      <th>transaction_month</th>\n",
       "    </tr>\n",
       "  </thead>\n",
       "  <tbody>\n",
       "    <tr>\n",
       "      <th>0</th>\n",
       "      <td>2015-01</td>\n",
       "      <td>ANG MO KIO</td>\n",
       "      <td>3 ROOM</td>\n",
       "      <td>174</td>\n",
       "      <td>ANG MO KIO AVE 4</td>\n",
       "      <td>07 TO 09</td>\n",
       "      <td>60.0</td>\n",
       "      <td>Improved</td>\n",
       "      <td>1986</td>\n",
       "      <td>70</td>\n",
       "      <td>255000.0</td>\n",
       "      <td>4250.00</td>\n",
       "      <td>348.0</td>\n",
       "      <td>840.0</td>\n",
       "      <td>560174.0</td>\n",
       "      <td>174 ANG MO KIO AVENUE 4 KEBUN BARU LINK 1 SING...</td>\n",
       "      <td>c(28478.5837591651, 39676.8076486272)</td>\n",
       "      <td>3.0</td>\n",
       "      <td>2.0</td>\n",
       "      <td>1.0</td>\n",
       "      <td>1.0</td>\n",
       "      <td>2.0</td>\n",
       "      <td>37.0</td>\n",
       "      <td>3.0</td>\n",
       "      <td>5.0</td>\n",
       "      <td>2.0</td>\n",
       "      <td>1.697526</td>\n",
       "      <td>2015</td>\n",
       "      <td>1</td>\n",
       "    </tr>\n",
       "    <tr>\n",
       "      <th>1</th>\n",
       "      <td>2015-01</td>\n",
       "      <td>ANG MO KIO</td>\n",
       "      <td>3 ROOM</td>\n",
       "      <td>541</td>\n",
       "      <td>ANG MO KIO AVE 10</td>\n",
       "      <td>01 TO 03</td>\n",
       "      <td>68.0</td>\n",
       "      <td>New Generation</td>\n",
       "      <td>1981</td>\n",
       "      <td>65</td>\n",
       "      <td>275000.0</td>\n",
       "      <td>4044.12</td>\n",
       "      <td>408.0</td>\n",
       "      <td>780.0</td>\n",
       "      <td>560541.0</td>\n",
       "      <td>541 ANG MO KIO AVENUE 10 CHENG SAN GREEN SINGA...</td>\n",
       "      <td>c(30482.0297685288, 39546.8847489604)</td>\n",
       "      <td>3.0</td>\n",
       "      <td>1.0</td>\n",
       "      <td>2.0</td>\n",
       "      <td>2.0</td>\n",
       "      <td>0.0</td>\n",
       "      <td>31.0</td>\n",
       "      <td>3.0</td>\n",
       "      <td>2.0</td>\n",
       "      <td>1.0</td>\n",
       "      <td>0.497407</td>\n",
       "      <td>2015</td>\n",
       "      <td>1</td>\n",
       "    </tr>\n",
       "    <tr>\n",
       "      <th>2</th>\n",
       "      <td>2015-01</td>\n",
       "      <td>ANG MO KIO</td>\n",
       "      <td>3 ROOM</td>\n",
       "      <td>163</td>\n",
       "      <td>ANG MO KIO AVE 4</td>\n",
       "      <td>01 TO 03</td>\n",
       "      <td>69.0</td>\n",
       "      <td>New Generation</td>\n",
       "      <td>1980</td>\n",
       "      <td>64</td>\n",
       "      <td>285000.0</td>\n",
       "      <td>4130.43</td>\n",
       "      <td>420.0</td>\n",
       "      <td>768.0</td>\n",
       "      <td>560163.0</td>\n",
       "      <td>163 ANG MO KIO AVENUE 4 HDB-ANG MO KIO SINGAPO...</td>\n",
       "      <td>c(28540.62696974, 39505.5349642498)</td>\n",
       "      <td>3.0</td>\n",
       "      <td>2.0</td>\n",
       "      <td>1.0</td>\n",
       "      <td>1.0</td>\n",
       "      <td>2.0</td>\n",
       "      <td>38.0</td>\n",
       "      <td>3.0</td>\n",
       "      <td>6.0</td>\n",
       "      <td>2.0</td>\n",
       "      <td>1.697526</td>\n",
       "      <td>2015</td>\n",
       "      <td>1</td>\n",
       "    </tr>\n",
       "    <tr>\n",
       "      <th>3</th>\n",
       "      <td>2015-01</td>\n",
       "      <td>ANG MO KIO</td>\n",
       "      <td>3 ROOM</td>\n",
       "      <td>163</td>\n",
       "      <td>ANG MO KIO AVE 4</td>\n",
       "      <td>01 TO 03</td>\n",
       "      <td>69.0</td>\n",
       "      <td>New Generation</td>\n",
       "      <td>1980</td>\n",
       "      <td>64</td>\n",
       "      <td>285000.0</td>\n",
       "      <td>4130.43</td>\n",
       "      <td>430.0</td>\n",
       "      <td>756.0</td>\n",
       "      <td>560163.0</td>\n",
       "      <td>163 ANG MO KIO AVENUE 4 HDB-ANG MO KIO SINGAPO...</td>\n",
       "      <td>c(28540.62696974, 39505.5349642498)</td>\n",
       "      <td>3.0</td>\n",
       "      <td>2.0</td>\n",
       "      <td>1.0</td>\n",
       "      <td>1.0</td>\n",
       "      <td>2.0</td>\n",
       "      <td>38.0</td>\n",
       "      <td>3.0</td>\n",
       "      <td>6.0</td>\n",
       "      <td>2.0</td>\n",
       "      <td>1.697526</td>\n",
       "      <td>2015</td>\n",
       "      <td>1</td>\n",
       "    </tr>\n",
       "    <tr>\n",
       "      <th>4</th>\n",
       "      <td>2015-01</td>\n",
       "      <td>ANG MO KIO</td>\n",
       "      <td>3 ROOM</td>\n",
       "      <td>446</td>\n",
       "      <td>ANG MO KIO AVE 10</td>\n",
       "      <td>01 TO 03</td>\n",
       "      <td>68.0</td>\n",
       "      <td>New Generation</td>\n",
       "      <td>1979</td>\n",
       "      <td>63</td>\n",
       "      <td>290000.0</td>\n",
       "      <td>4264.71</td>\n",
       "      <td>432.0</td>\n",
       "      <td>756.0</td>\n",
       "      <td>560446.0</td>\n",
       "      <td>446 ANG MO KIO AVENUE 10 CHONG BOON CENTRE SIN...</td>\n",
       "      <td>c(30452.6226920099, 38865.5836335386)</td>\n",
       "      <td>3.0</td>\n",
       "      <td>1.0</td>\n",
       "      <td>3.0</td>\n",
       "      <td>3.0</td>\n",
       "      <td>0.0</td>\n",
       "      <td>30.0</td>\n",
       "      <td>4.0</td>\n",
       "      <td>3.0</td>\n",
       "      <td>0.0</td>\n",
       "      <td>0.497407</td>\n",
       "      <td>2015</td>\n",
       "      <td>1</td>\n",
       "    </tr>\n",
       "  </tbody>\n",
       "</table>\n",
       "</div>"
      ],
      "text/plain": [
       "     month        town  ... transaction_year transaction_month\n",
       "0  2015-01  ANG MO KIO  ...             2015                 1\n",
       "1  2015-01  ANG MO KIO  ...             2015                 1\n",
       "2  2015-01  ANG MO KIO  ...             2015                 1\n",
       "3  2015-01  ANG MO KIO  ...             2015                 1\n",
       "4  2015-01  ANG MO KIO  ...             2015                 1\n",
       "\n",
       "[5 rows x 29 columns]"
      ]
     },
     "execution_count": 6,
     "metadata": {
      "tags": []
     },
     "output_type": "execute_result"
    }
   ],
   "source": [
    "resaleflat1.head()"
   ]
  },
  {
   "cell_type": "code",
   "execution_count": 4,
   "metadata": {
    "colab": {
     "base_uri": "https://localhost:8080/",
     "height": 51
    },
    "colab_type": "code",
    "id": "2c0uk3XjZFc0",
    "outputId": "f3846aff-24de-4aea-e8ba-591041b8129b"
   },
   "outputs": [
    {
     "name": "stderr",
     "output_type": "stream",
     "text": [
      "/usr/local/lib/python3.6/dist-packages/IPython/core/interactiveshell.py:2718: DtypeWarning: Columns (9) have mixed types. Specify dtype option on import or set low_memory=False.\n",
      "  interactivity=interactivity, compiler=compiler, result=result)\n"
     ]
    }
   ],
   "source": [
    "#resaleflat1 = pd.read_csv('/content/y2015_to_2017_buffer_1500.csv')\n",
    "resaleflat1 = pd.read_csv('/content/y2015_to_2017_buffer_750.csv')\n",
    "\n",
    "# drop rows with any null value\n",
    "resaleflat1.dropna(inplace = True)\n",
    "\n",
    "# drop columns:\n",
    "# remaining_lease: \n",
    "resaleflat1.drop([\n",
    "    'geometry', # for processing only\n",
    "    'remaining_lease', # duplicate of remaining_lease_month\n",
    "    'street_name', # random\n",
    "    'address',  # random\n",
    "    'block', # random\n",
    "    'floor_area_sqm', # feature used to create target\n",
    "    'age_month', # highly correlated to remaining_lease_month\n",
    "    'lease_commence_date', # var used to create remaining_lease_month\n",
    "    'transaction_month', # limited use\n",
    "    'resale_price', # highly correlated to target\n",
    "    'month' # duplicate of transaction_date\n",
    "], axis=1, inplace=True)\n",
    "\n",
    "# log price_per_sqm\n",
    "#resaleflat1['price_per_sqm'] = resaleflat1['price_per_sqm'].apply(lambda x: np.log(1 + x))\n",
    "\n",
    "# cut postal code to only be first 3 digits\n",
    "resaleflat1['postal'] = resaleflat1['postal'].apply(lambda x: int(str(x)[:3]))\n",
    "\n",
    "# change storey_range to average of floors, to change categorical to numerical\n",
    "resaleflat1['storey_range'] = resaleflat1['storey_range'].apply(lambda x: (int(x[:2]) + int(x[-2:]))/2)"
   ]
  },
  {
   "cell_type": "code",
   "execution_count": 5,
   "metadata": {
    "colab": {
     "base_uri": "https://localhost:8080/",
     "height": 51
    },
    "colab_type": "code",
    "id": "-vQE9sIXtWZL",
    "outputId": "83bcf0ad-d211-4e94-c0a2-d2c942831a80"
   },
   "outputs": [
    {
     "data": {
      "text/plain": [
       "array([ 8.,  2., 14., 11.,  5., 20., 17., 23., 26., 29., 35., 47., 32.,\n",
       "       38., 44., 41., 50.])"
      ]
     },
     "execution_count": 5,
     "metadata": {
      "tags": []
     },
     "output_type": "execute_result"
    }
   ],
   "source": [
    "resaleflat1.storey_range.unique()"
   ]
  },
  {
   "cell_type": "code",
   "execution_count": 6,
   "metadata": {
    "colab": {
     "base_uri": "https://localhost:8080/",
     "height": 394
    },
    "colab_type": "code",
    "id": "R79hBGBezyCC",
    "outputId": "ec289f7f-5700-4a30-8607-b2f831b75989"
   },
   "outputs": [
    {
     "data": {
      "text/html": [
       "<div>\n",
       "<style scoped>\n",
       "    .dataframe tbody tr th:only-of-type {\n",
       "        vertical-align: middle;\n",
       "    }\n",
       "\n",
       "    .dataframe tbody tr th {\n",
       "        vertical-align: top;\n",
       "    }\n",
       "\n",
       "    .dataframe thead th {\n",
       "        text-align: right;\n",
       "    }\n",
       "</style>\n",
       "<table border=\"1\" class=\"dataframe\">\n",
       "  <thead>\n",
       "    <tr style=\"text-align: right;\">\n",
       "      <th></th>\n",
       "      <th>town</th>\n",
       "      <th>flat_type</th>\n",
       "      <th>storey_range</th>\n",
       "      <th>flat_model</th>\n",
       "      <th>transaction_year</th>\n",
       "      <th>price_per_sqm</th>\n",
       "      <th>remaining_lease_month</th>\n",
       "      <th>postal</th>\n",
       "      <th>mallCount</th>\n",
       "      <th>busInterchangeCount</th>\n",
       "      <th>sportsCount</th>\n",
       "      <th>hawkerCount</th>\n",
       "      <th>npParkCount</th>\n",
       "      <th>preschoolCount</th>\n",
       "      <th>primarySchCount</th>\n",
       "      <th>secondarySchCount</th>\n",
       "      <th>tertiarySchCount</th>\n",
       "      <th>dist_nearestMRT</th>\n",
       "    </tr>\n",
       "  </thead>\n",
       "  <tbody>\n",
       "    <tr>\n",
       "      <th>0</th>\n",
       "      <td>ANG MO KIO</td>\n",
       "      <td>3 ROOM</td>\n",
       "      <td>8.0</td>\n",
       "      <td>Improved</td>\n",
       "      <td>2015</td>\n",
       "      <td>4250.00</td>\n",
       "      <td>840.0</td>\n",
       "      <td>560</td>\n",
       "      <td>0.0</td>\n",
       "      <td>0.0</td>\n",
       "      <td>0.0</td>\n",
       "      <td>0.0</td>\n",
       "      <td>2.0</td>\n",
       "      <td>12.0</td>\n",
       "      <td>2.0</td>\n",
       "      <td>1.0</td>\n",
       "      <td>1.0</td>\n",
       "      <td>1.697526</td>\n",
       "    </tr>\n",
       "    <tr>\n",
       "      <th>1</th>\n",
       "      <td>ANG MO KIO</td>\n",
       "      <td>3 ROOM</td>\n",
       "      <td>2.0</td>\n",
       "      <td>New Generation</td>\n",
       "      <td>2015</td>\n",
       "      <td>4044.12</td>\n",
       "      <td>780.0</td>\n",
       "      <td>560</td>\n",
       "      <td>0.0</td>\n",
       "      <td>0.0</td>\n",
       "      <td>0.0</td>\n",
       "      <td>0.0</td>\n",
       "      <td>0.0</td>\n",
       "      <td>9.0</td>\n",
       "      <td>1.0</td>\n",
       "      <td>1.0</td>\n",
       "      <td>0.0</td>\n",
       "      <td>0.497407</td>\n",
       "    </tr>\n",
       "    <tr>\n",
       "      <th>2</th>\n",
       "      <td>ANG MO KIO</td>\n",
       "      <td>3 ROOM</td>\n",
       "      <td>2.0</td>\n",
       "      <td>New Generation</td>\n",
       "      <td>2015</td>\n",
       "      <td>4130.43</td>\n",
       "      <td>768.0</td>\n",
       "      <td>560</td>\n",
       "      <td>0.0</td>\n",
       "      <td>0.0</td>\n",
       "      <td>0.0</td>\n",
       "      <td>0.0</td>\n",
       "      <td>2.0</td>\n",
       "      <td>11.0</td>\n",
       "      <td>2.0</td>\n",
       "      <td>2.0</td>\n",
       "      <td>1.0</td>\n",
       "      <td>1.697526</td>\n",
       "    </tr>\n",
       "    <tr>\n",
       "      <th>3</th>\n",
       "      <td>ANG MO KIO</td>\n",
       "      <td>3 ROOM</td>\n",
       "      <td>2.0</td>\n",
       "      <td>New Generation</td>\n",
       "      <td>2015</td>\n",
       "      <td>4130.43</td>\n",
       "      <td>756.0</td>\n",
       "      <td>560</td>\n",
       "      <td>0.0</td>\n",
       "      <td>0.0</td>\n",
       "      <td>0.0</td>\n",
       "      <td>0.0</td>\n",
       "      <td>2.0</td>\n",
       "      <td>11.0</td>\n",
       "      <td>2.0</td>\n",
       "      <td>2.0</td>\n",
       "      <td>1.0</td>\n",
       "      <td>1.697526</td>\n",
       "    </tr>\n",
       "    <tr>\n",
       "      <th>4</th>\n",
       "      <td>ANG MO KIO</td>\n",
       "      <td>3 ROOM</td>\n",
       "      <td>2.0</td>\n",
       "      <td>New Generation</td>\n",
       "      <td>2015</td>\n",
       "      <td>4264.71</td>\n",
       "      <td>756.0</td>\n",
       "      <td>560</td>\n",
       "      <td>0.0</td>\n",
       "      <td>0.0</td>\n",
       "      <td>0.0</td>\n",
       "      <td>0.0</td>\n",
       "      <td>0.0</td>\n",
       "      <td>11.0</td>\n",
       "      <td>2.0</td>\n",
       "      <td>1.0</td>\n",
       "      <td>0.0</td>\n",
       "      <td>0.497407</td>\n",
       "    </tr>\n",
       "  </tbody>\n",
       "</table>\n",
       "</div>"
      ],
      "text/plain": [
       "         town flat_type  ...  tertiarySchCount dist_nearestMRT\n",
       "0  ANG MO KIO    3 ROOM  ...               1.0        1.697526\n",
       "1  ANG MO KIO    3 ROOM  ...               0.0        0.497407\n",
       "2  ANG MO KIO    3 ROOM  ...               1.0        1.697526\n",
       "3  ANG MO KIO    3 ROOM  ...               1.0        1.697526\n",
       "4  ANG MO KIO    3 ROOM  ...               0.0        0.497407\n",
       "\n",
       "[5 rows x 18 columns]"
      ]
     },
     "execution_count": 6,
     "metadata": {
      "tags": []
     },
     "output_type": "execute_result"
    }
   ],
   "source": [
    "resaleflat1.head()"
   ]
  },
  {
   "cell_type": "markdown",
   "metadata": {
    "colab_type": "text",
    "id": "CBD8CxhQD2po"
   },
   "source": [
    "**One-Hot Encoding**"
   ]
  },
  {
   "cell_type": "code",
   "execution_count": 8,
   "metadata": {
    "colab": {
     "base_uri": "https://localhost:8080/",
     "height": 394
    },
    "colab_type": "code",
    "id": "ztFVJIzwNlMa",
    "outputId": "098836ed-dd26-44db-fb70-7209140e754c"
   },
   "outputs": [
    {
     "data": {
      "text/html": [
       "<div>\n",
       "<style scoped>\n",
       "    .dataframe tbody tr th:only-of-type {\n",
       "        vertical-align: middle;\n",
       "    }\n",
       "\n",
       "    .dataframe tbody tr th {\n",
       "        vertical-align: top;\n",
       "    }\n",
       "\n",
       "    .dataframe thead th {\n",
       "        text-align: right;\n",
       "    }\n",
       "</style>\n",
       "<table border=\"1\" class=\"dataframe\">\n",
       "  <thead>\n",
       "    <tr style=\"text-align: right;\">\n",
       "      <th></th>\n",
       "      <th>town</th>\n",
       "      <th>flat_type</th>\n",
       "      <th>storey_range</th>\n",
       "      <th>flat_model</th>\n",
       "      <th>transaction_year</th>\n",
       "      <th>price_per_sqm</th>\n",
       "      <th>remaining_lease_month</th>\n",
       "      <th>postal</th>\n",
       "      <th>mallCount</th>\n",
       "      <th>busInterchangeCount</th>\n",
       "      <th>sportsCount</th>\n",
       "      <th>hawkerCount</th>\n",
       "      <th>npParkCount</th>\n",
       "      <th>preschoolCount</th>\n",
       "      <th>primarySchCount</th>\n",
       "      <th>secondarySchCount</th>\n",
       "      <th>tertiarySchCount</th>\n",
       "      <th>dist_nearestMRT</th>\n",
       "    </tr>\n",
       "  </thead>\n",
       "  <tbody>\n",
       "    <tr>\n",
       "      <th>0</th>\n",
       "      <td>ANG MO KIO</td>\n",
       "      <td>3 ROOM</td>\n",
       "      <td>2</td>\n",
       "      <td>Improved</td>\n",
       "      <td>2015</td>\n",
       "      <td>4250.00</td>\n",
       "      <td>840.0</td>\n",
       "      <td>560</td>\n",
       "      <td>0.0</td>\n",
       "      <td>0.0</td>\n",
       "      <td>0.0</td>\n",
       "      <td>0.0</td>\n",
       "      <td>2.0</td>\n",
       "      <td>12.0</td>\n",
       "      <td>2.0</td>\n",
       "      <td>1.0</td>\n",
       "      <td>1.0</td>\n",
       "      <td>1.697526</td>\n",
       "    </tr>\n",
       "    <tr>\n",
       "      <th>1</th>\n",
       "      <td>ANG MO KIO</td>\n",
       "      <td>3 ROOM</td>\n",
       "      <td>0</td>\n",
       "      <td>New Generation</td>\n",
       "      <td>2015</td>\n",
       "      <td>4044.12</td>\n",
       "      <td>780.0</td>\n",
       "      <td>560</td>\n",
       "      <td>0.0</td>\n",
       "      <td>0.0</td>\n",
       "      <td>0.0</td>\n",
       "      <td>0.0</td>\n",
       "      <td>0.0</td>\n",
       "      <td>9.0</td>\n",
       "      <td>1.0</td>\n",
       "      <td>1.0</td>\n",
       "      <td>0.0</td>\n",
       "      <td>0.497407</td>\n",
       "    </tr>\n",
       "    <tr>\n",
       "      <th>2</th>\n",
       "      <td>ANG MO KIO</td>\n",
       "      <td>3 ROOM</td>\n",
       "      <td>0</td>\n",
       "      <td>New Generation</td>\n",
       "      <td>2015</td>\n",
       "      <td>4130.43</td>\n",
       "      <td>768.0</td>\n",
       "      <td>560</td>\n",
       "      <td>0.0</td>\n",
       "      <td>0.0</td>\n",
       "      <td>0.0</td>\n",
       "      <td>0.0</td>\n",
       "      <td>2.0</td>\n",
       "      <td>11.0</td>\n",
       "      <td>2.0</td>\n",
       "      <td>2.0</td>\n",
       "      <td>1.0</td>\n",
       "      <td>1.697526</td>\n",
       "    </tr>\n",
       "    <tr>\n",
       "      <th>3</th>\n",
       "      <td>ANG MO KIO</td>\n",
       "      <td>3 ROOM</td>\n",
       "      <td>0</td>\n",
       "      <td>New Generation</td>\n",
       "      <td>2015</td>\n",
       "      <td>4130.43</td>\n",
       "      <td>756.0</td>\n",
       "      <td>560</td>\n",
       "      <td>0.0</td>\n",
       "      <td>0.0</td>\n",
       "      <td>0.0</td>\n",
       "      <td>0.0</td>\n",
       "      <td>2.0</td>\n",
       "      <td>11.0</td>\n",
       "      <td>2.0</td>\n",
       "      <td>2.0</td>\n",
       "      <td>1.0</td>\n",
       "      <td>1.697526</td>\n",
       "    </tr>\n",
       "    <tr>\n",
       "      <th>4</th>\n",
       "      <td>ANG MO KIO</td>\n",
       "      <td>3 ROOM</td>\n",
       "      <td>0</td>\n",
       "      <td>New Generation</td>\n",
       "      <td>2015</td>\n",
       "      <td>4264.71</td>\n",
       "      <td>756.0</td>\n",
       "      <td>560</td>\n",
       "      <td>0.0</td>\n",
       "      <td>0.0</td>\n",
       "      <td>0.0</td>\n",
       "      <td>0.0</td>\n",
       "      <td>0.0</td>\n",
       "      <td>11.0</td>\n",
       "      <td>2.0</td>\n",
       "      <td>1.0</td>\n",
       "      <td>0.0</td>\n",
       "      <td>0.497407</td>\n",
       "    </tr>\n",
       "  </tbody>\n",
       "</table>\n",
       "</div>"
      ],
      "text/plain": [
       "         town flat_type  ...  tertiarySchCount dist_nearestMRT\n",
       "0  ANG MO KIO    3 ROOM  ...               1.0        1.697526\n",
       "1  ANG MO KIO    3 ROOM  ...               0.0        0.497407\n",
       "2  ANG MO KIO    3 ROOM  ...               1.0        1.697526\n",
       "3  ANG MO KIO    3 ROOM  ...               1.0        1.697526\n",
       "4  ANG MO KIO    3 ROOM  ...               0.0        0.497407\n",
       "\n",
       "[5 rows x 18 columns]"
      ]
     },
     "execution_count": 8,
     "metadata": {
      "tags": []
     },
     "output_type": "execute_result"
    }
   ],
   "source": [
    "resaleflat1.head()"
   ]
  },
  {
   "cell_type": "code",
   "execution_count": 0,
   "metadata": {
    "colab": {},
    "colab_type": "code",
    "id": "AIjnxrt8neGM"
   },
   "outputs": [],
   "source": [
    "categorical_vars = [['town', 'town'], ['flat_type', 'ft'], ['flat_model', 'fm'], ['storey_range', 'sr']]\n",
    "\n",
    "for cat in categorical_vars:\n",
    "    resaleflat1[cat[0]] = pd.Categorical(resaleflat1[cat[0]])\n",
    "    catDummies = pd.get_dummies(resaleflat1[cat[0]], prefix = cat[1])\n",
    "    resaleflat1 = pd.concat([resaleflat1, catDummies], axis=1)\n",
    "    resaleflat1.drop(cat[0], axis=1, inplace=True)"
   ]
  },
  {
   "cell_type": "code",
   "execution_count": 10,
   "metadata": {
    "colab": {
     "base_uri": "https://localhost:8080/",
     "height": 287
    },
    "colab_type": "code",
    "id": "b7WqDleDy500",
    "outputId": "bf32ed3f-ba4e-4705-b19f-cb16d671a0a6"
   },
   "outputs": [
    {
     "data": {
      "text/html": [
       "<div>\n",
       "<style scoped>\n",
       "    .dataframe tbody tr th:only-of-type {\n",
       "        vertical-align: middle;\n",
       "    }\n",
       "\n",
       "    .dataframe tbody tr th {\n",
       "        vertical-align: top;\n",
       "    }\n",
       "\n",
       "    .dataframe thead th {\n",
       "        text-align: right;\n",
       "    }\n",
       "</style>\n",
       "<table border=\"1\" class=\"dataframe\">\n",
       "  <thead>\n",
       "    <tr style=\"text-align: right;\">\n",
       "      <th></th>\n",
       "      <th>transaction_year</th>\n",
       "      <th>price_per_sqm</th>\n",
       "      <th>remaining_lease_month</th>\n",
       "      <th>postal</th>\n",
       "      <th>mallCount</th>\n",
       "      <th>busInterchangeCount</th>\n",
       "      <th>sportsCount</th>\n",
       "      <th>hawkerCount</th>\n",
       "      <th>npParkCount</th>\n",
       "      <th>preschoolCount</th>\n",
       "      <th>primarySchCount</th>\n",
       "      <th>secondarySchCount</th>\n",
       "      <th>tertiarySchCount</th>\n",
       "      <th>dist_nearestMRT</th>\n",
       "      <th>town_ANG MO KIO</th>\n",
       "      <th>town_BEDOK</th>\n",
       "      <th>town_BISHAN</th>\n",
       "      <th>town_BUKIT BATOK</th>\n",
       "      <th>town_BUKIT MERAH</th>\n",
       "      <th>town_BUKIT PANJANG</th>\n",
       "      <th>town_BUKIT TIMAH</th>\n",
       "      <th>town_CENTRAL AREA</th>\n",
       "      <th>town_CHOA CHU KANG</th>\n",
       "      <th>town_CLEMENTI</th>\n",
       "      <th>town_GEYLANG</th>\n",
       "      <th>town_HOUGANG</th>\n",
       "      <th>town_JURONG EAST</th>\n",
       "      <th>town_JURONG WEST</th>\n",
       "      <th>town_KALLANG/WHAMPOA</th>\n",
       "      <th>town_MARINE PARADE</th>\n",
       "      <th>town_PASIR RIS</th>\n",
       "      <th>town_PUNGGOL</th>\n",
       "      <th>town_QUEENSTOWN</th>\n",
       "      <th>town_SEMBAWANG</th>\n",
       "      <th>town_SENGKANG</th>\n",
       "      <th>town_SERANGOON</th>\n",
       "      <th>town_TAMPINES</th>\n",
       "      <th>town_TOA PAYOH</th>\n",
       "      <th>town_WOODLANDS</th>\n",
       "      <th>town_YISHUN</th>\n",
       "      <th>...</th>\n",
       "      <th>ft_5 ROOM</th>\n",
       "      <th>ft_EXECUTIVE</th>\n",
       "      <th>ft_MULTI-GENERATION</th>\n",
       "      <th>fm_2-room</th>\n",
       "      <th>fm_Adjoined flat</th>\n",
       "      <th>fm_Apartment</th>\n",
       "      <th>fm_DBSS</th>\n",
       "      <th>fm_Improved</th>\n",
       "      <th>fm_Improved-Maisonette</th>\n",
       "      <th>fm_Maisonette</th>\n",
       "      <th>fm_Model A</th>\n",
       "      <th>fm_Model A-Maisonette</th>\n",
       "      <th>fm_Model A2</th>\n",
       "      <th>fm_Multi Generation</th>\n",
       "      <th>fm_New Generation</th>\n",
       "      <th>fm_Premium Apartment</th>\n",
       "      <th>fm_Premium Apartment Loft</th>\n",
       "      <th>fm_Premium Maisonette</th>\n",
       "      <th>fm_Simplified</th>\n",
       "      <th>fm_Standard</th>\n",
       "      <th>fm_Terrace</th>\n",
       "      <th>fm_Type S1</th>\n",
       "      <th>fm_Type S2</th>\n",
       "      <th>sr_0</th>\n",
       "      <th>sr_1</th>\n",
       "      <th>sr_2</th>\n",
       "      <th>sr_3</th>\n",
       "      <th>sr_4</th>\n",
       "      <th>sr_5</th>\n",
       "      <th>sr_6</th>\n",
       "      <th>sr_7</th>\n",
       "      <th>sr_8</th>\n",
       "      <th>sr_9</th>\n",
       "      <th>sr_10</th>\n",
       "      <th>sr_11</th>\n",
       "      <th>sr_12</th>\n",
       "      <th>sr_13</th>\n",
       "      <th>sr_14</th>\n",
       "      <th>sr_15</th>\n",
       "      <th>sr_16</th>\n",
       "    </tr>\n",
       "  </thead>\n",
       "  <tbody>\n",
       "    <tr>\n",
       "      <th>0</th>\n",
       "      <td>2015</td>\n",
       "      <td>4250.00</td>\n",
       "      <td>840.0</td>\n",
       "      <td>560</td>\n",
       "      <td>0.0</td>\n",
       "      <td>0.0</td>\n",
       "      <td>0.0</td>\n",
       "      <td>0.0</td>\n",
       "      <td>2.0</td>\n",
       "      <td>12.0</td>\n",
       "      <td>2.0</td>\n",
       "      <td>1.0</td>\n",
       "      <td>1.0</td>\n",
       "      <td>1.697526</td>\n",
       "      <td>1</td>\n",
       "      <td>0</td>\n",
       "      <td>0</td>\n",
       "      <td>0</td>\n",
       "      <td>0</td>\n",
       "      <td>0</td>\n",
       "      <td>0</td>\n",
       "      <td>0</td>\n",
       "      <td>0</td>\n",
       "      <td>0</td>\n",
       "      <td>0</td>\n",
       "      <td>0</td>\n",
       "      <td>0</td>\n",
       "      <td>0</td>\n",
       "      <td>0</td>\n",
       "      <td>0</td>\n",
       "      <td>0</td>\n",
       "      <td>0</td>\n",
       "      <td>0</td>\n",
       "      <td>0</td>\n",
       "      <td>0</td>\n",
       "      <td>0</td>\n",
       "      <td>0</td>\n",
       "      <td>0</td>\n",
       "      <td>0</td>\n",
       "      <td>0</td>\n",
       "      <td>...</td>\n",
       "      <td>0</td>\n",
       "      <td>0</td>\n",
       "      <td>0</td>\n",
       "      <td>0</td>\n",
       "      <td>0</td>\n",
       "      <td>0</td>\n",
       "      <td>0</td>\n",
       "      <td>1</td>\n",
       "      <td>0</td>\n",
       "      <td>0</td>\n",
       "      <td>0</td>\n",
       "      <td>0</td>\n",
       "      <td>0</td>\n",
       "      <td>0</td>\n",
       "      <td>0</td>\n",
       "      <td>0</td>\n",
       "      <td>0</td>\n",
       "      <td>0</td>\n",
       "      <td>0</td>\n",
       "      <td>0</td>\n",
       "      <td>0</td>\n",
       "      <td>0</td>\n",
       "      <td>0</td>\n",
       "      <td>0</td>\n",
       "      <td>0</td>\n",
       "      <td>1</td>\n",
       "      <td>0</td>\n",
       "      <td>0</td>\n",
       "      <td>0</td>\n",
       "      <td>0</td>\n",
       "      <td>0</td>\n",
       "      <td>0</td>\n",
       "      <td>0</td>\n",
       "      <td>0</td>\n",
       "      <td>0</td>\n",
       "      <td>0</td>\n",
       "      <td>0</td>\n",
       "      <td>0</td>\n",
       "      <td>0</td>\n",
       "      <td>0</td>\n",
       "    </tr>\n",
       "    <tr>\n",
       "      <th>1</th>\n",
       "      <td>2015</td>\n",
       "      <td>4044.12</td>\n",
       "      <td>780.0</td>\n",
       "      <td>560</td>\n",
       "      <td>0.0</td>\n",
       "      <td>0.0</td>\n",
       "      <td>0.0</td>\n",
       "      <td>0.0</td>\n",
       "      <td>0.0</td>\n",
       "      <td>9.0</td>\n",
       "      <td>1.0</td>\n",
       "      <td>1.0</td>\n",
       "      <td>0.0</td>\n",
       "      <td>0.497407</td>\n",
       "      <td>1</td>\n",
       "      <td>0</td>\n",
       "      <td>0</td>\n",
       "      <td>0</td>\n",
       "      <td>0</td>\n",
       "      <td>0</td>\n",
       "      <td>0</td>\n",
       "      <td>0</td>\n",
       "      <td>0</td>\n",
       "      <td>0</td>\n",
       "      <td>0</td>\n",
       "      <td>0</td>\n",
       "      <td>0</td>\n",
       "      <td>0</td>\n",
       "      <td>0</td>\n",
       "      <td>0</td>\n",
       "      <td>0</td>\n",
       "      <td>0</td>\n",
       "      <td>0</td>\n",
       "      <td>0</td>\n",
       "      <td>0</td>\n",
       "      <td>0</td>\n",
       "      <td>0</td>\n",
       "      <td>0</td>\n",
       "      <td>0</td>\n",
       "      <td>0</td>\n",
       "      <td>...</td>\n",
       "      <td>0</td>\n",
       "      <td>0</td>\n",
       "      <td>0</td>\n",
       "      <td>0</td>\n",
       "      <td>0</td>\n",
       "      <td>0</td>\n",
       "      <td>0</td>\n",
       "      <td>0</td>\n",
       "      <td>0</td>\n",
       "      <td>0</td>\n",
       "      <td>0</td>\n",
       "      <td>0</td>\n",
       "      <td>0</td>\n",
       "      <td>0</td>\n",
       "      <td>1</td>\n",
       "      <td>0</td>\n",
       "      <td>0</td>\n",
       "      <td>0</td>\n",
       "      <td>0</td>\n",
       "      <td>0</td>\n",
       "      <td>0</td>\n",
       "      <td>0</td>\n",
       "      <td>0</td>\n",
       "      <td>1</td>\n",
       "      <td>0</td>\n",
       "      <td>0</td>\n",
       "      <td>0</td>\n",
       "      <td>0</td>\n",
       "      <td>0</td>\n",
       "      <td>0</td>\n",
       "      <td>0</td>\n",
       "      <td>0</td>\n",
       "      <td>0</td>\n",
       "      <td>0</td>\n",
       "      <td>0</td>\n",
       "      <td>0</td>\n",
       "      <td>0</td>\n",
       "      <td>0</td>\n",
       "      <td>0</td>\n",
       "      <td>0</td>\n",
       "    </tr>\n",
       "    <tr>\n",
       "      <th>2</th>\n",
       "      <td>2015</td>\n",
       "      <td>4130.43</td>\n",
       "      <td>768.0</td>\n",
       "      <td>560</td>\n",
       "      <td>0.0</td>\n",
       "      <td>0.0</td>\n",
       "      <td>0.0</td>\n",
       "      <td>0.0</td>\n",
       "      <td>2.0</td>\n",
       "      <td>11.0</td>\n",
       "      <td>2.0</td>\n",
       "      <td>2.0</td>\n",
       "      <td>1.0</td>\n",
       "      <td>1.697526</td>\n",
       "      <td>1</td>\n",
       "      <td>0</td>\n",
       "      <td>0</td>\n",
       "      <td>0</td>\n",
       "      <td>0</td>\n",
       "      <td>0</td>\n",
       "      <td>0</td>\n",
       "      <td>0</td>\n",
       "      <td>0</td>\n",
       "      <td>0</td>\n",
       "      <td>0</td>\n",
       "      <td>0</td>\n",
       "      <td>0</td>\n",
       "      <td>0</td>\n",
       "      <td>0</td>\n",
       "      <td>0</td>\n",
       "      <td>0</td>\n",
       "      <td>0</td>\n",
       "      <td>0</td>\n",
       "      <td>0</td>\n",
       "      <td>0</td>\n",
       "      <td>0</td>\n",
       "      <td>0</td>\n",
       "      <td>0</td>\n",
       "      <td>0</td>\n",
       "      <td>0</td>\n",
       "      <td>...</td>\n",
       "      <td>0</td>\n",
       "      <td>0</td>\n",
       "      <td>0</td>\n",
       "      <td>0</td>\n",
       "      <td>0</td>\n",
       "      <td>0</td>\n",
       "      <td>0</td>\n",
       "      <td>0</td>\n",
       "      <td>0</td>\n",
       "      <td>0</td>\n",
       "      <td>0</td>\n",
       "      <td>0</td>\n",
       "      <td>0</td>\n",
       "      <td>0</td>\n",
       "      <td>1</td>\n",
       "      <td>0</td>\n",
       "      <td>0</td>\n",
       "      <td>0</td>\n",
       "      <td>0</td>\n",
       "      <td>0</td>\n",
       "      <td>0</td>\n",
       "      <td>0</td>\n",
       "      <td>0</td>\n",
       "      <td>1</td>\n",
       "      <td>0</td>\n",
       "      <td>0</td>\n",
       "      <td>0</td>\n",
       "      <td>0</td>\n",
       "      <td>0</td>\n",
       "      <td>0</td>\n",
       "      <td>0</td>\n",
       "      <td>0</td>\n",
       "      <td>0</td>\n",
       "      <td>0</td>\n",
       "      <td>0</td>\n",
       "      <td>0</td>\n",
       "      <td>0</td>\n",
       "      <td>0</td>\n",
       "      <td>0</td>\n",
       "      <td>0</td>\n",
       "    </tr>\n",
       "    <tr>\n",
       "      <th>3</th>\n",
       "      <td>2015</td>\n",
       "      <td>4130.43</td>\n",
       "      <td>756.0</td>\n",
       "      <td>560</td>\n",
       "      <td>0.0</td>\n",
       "      <td>0.0</td>\n",
       "      <td>0.0</td>\n",
       "      <td>0.0</td>\n",
       "      <td>2.0</td>\n",
       "      <td>11.0</td>\n",
       "      <td>2.0</td>\n",
       "      <td>2.0</td>\n",
       "      <td>1.0</td>\n",
       "      <td>1.697526</td>\n",
       "      <td>1</td>\n",
       "      <td>0</td>\n",
       "      <td>0</td>\n",
       "      <td>0</td>\n",
       "      <td>0</td>\n",
       "      <td>0</td>\n",
       "      <td>0</td>\n",
       "      <td>0</td>\n",
       "      <td>0</td>\n",
       "      <td>0</td>\n",
       "      <td>0</td>\n",
       "      <td>0</td>\n",
       "      <td>0</td>\n",
       "      <td>0</td>\n",
       "      <td>0</td>\n",
       "      <td>0</td>\n",
       "      <td>0</td>\n",
       "      <td>0</td>\n",
       "      <td>0</td>\n",
       "      <td>0</td>\n",
       "      <td>0</td>\n",
       "      <td>0</td>\n",
       "      <td>0</td>\n",
       "      <td>0</td>\n",
       "      <td>0</td>\n",
       "      <td>0</td>\n",
       "      <td>...</td>\n",
       "      <td>0</td>\n",
       "      <td>0</td>\n",
       "      <td>0</td>\n",
       "      <td>0</td>\n",
       "      <td>0</td>\n",
       "      <td>0</td>\n",
       "      <td>0</td>\n",
       "      <td>0</td>\n",
       "      <td>0</td>\n",
       "      <td>0</td>\n",
       "      <td>0</td>\n",
       "      <td>0</td>\n",
       "      <td>0</td>\n",
       "      <td>0</td>\n",
       "      <td>1</td>\n",
       "      <td>0</td>\n",
       "      <td>0</td>\n",
       "      <td>0</td>\n",
       "      <td>0</td>\n",
       "      <td>0</td>\n",
       "      <td>0</td>\n",
       "      <td>0</td>\n",
       "      <td>0</td>\n",
       "      <td>1</td>\n",
       "      <td>0</td>\n",
       "      <td>0</td>\n",
       "      <td>0</td>\n",
       "      <td>0</td>\n",
       "      <td>0</td>\n",
       "      <td>0</td>\n",
       "      <td>0</td>\n",
       "      <td>0</td>\n",
       "      <td>0</td>\n",
       "      <td>0</td>\n",
       "      <td>0</td>\n",
       "      <td>0</td>\n",
       "      <td>0</td>\n",
       "      <td>0</td>\n",
       "      <td>0</td>\n",
       "      <td>0</td>\n",
       "    </tr>\n",
       "    <tr>\n",
       "      <th>4</th>\n",
       "      <td>2015</td>\n",
       "      <td>4264.71</td>\n",
       "      <td>756.0</td>\n",
       "      <td>560</td>\n",
       "      <td>0.0</td>\n",
       "      <td>0.0</td>\n",
       "      <td>0.0</td>\n",
       "      <td>0.0</td>\n",
       "      <td>0.0</td>\n",
       "      <td>11.0</td>\n",
       "      <td>2.0</td>\n",
       "      <td>1.0</td>\n",
       "      <td>0.0</td>\n",
       "      <td>0.497407</td>\n",
       "      <td>1</td>\n",
       "      <td>0</td>\n",
       "      <td>0</td>\n",
       "      <td>0</td>\n",
       "      <td>0</td>\n",
       "      <td>0</td>\n",
       "      <td>0</td>\n",
       "      <td>0</td>\n",
       "      <td>0</td>\n",
       "      <td>0</td>\n",
       "      <td>0</td>\n",
       "      <td>0</td>\n",
       "      <td>0</td>\n",
       "      <td>0</td>\n",
       "      <td>0</td>\n",
       "      <td>0</td>\n",
       "      <td>0</td>\n",
       "      <td>0</td>\n",
       "      <td>0</td>\n",
       "      <td>0</td>\n",
       "      <td>0</td>\n",
       "      <td>0</td>\n",
       "      <td>0</td>\n",
       "      <td>0</td>\n",
       "      <td>0</td>\n",
       "      <td>0</td>\n",
       "      <td>...</td>\n",
       "      <td>0</td>\n",
       "      <td>0</td>\n",
       "      <td>0</td>\n",
       "      <td>0</td>\n",
       "      <td>0</td>\n",
       "      <td>0</td>\n",
       "      <td>0</td>\n",
       "      <td>0</td>\n",
       "      <td>0</td>\n",
       "      <td>0</td>\n",
       "      <td>0</td>\n",
       "      <td>0</td>\n",
       "      <td>0</td>\n",
       "      <td>0</td>\n",
       "      <td>1</td>\n",
       "      <td>0</td>\n",
       "      <td>0</td>\n",
       "      <td>0</td>\n",
       "      <td>0</td>\n",
       "      <td>0</td>\n",
       "      <td>0</td>\n",
       "      <td>0</td>\n",
       "      <td>0</td>\n",
       "      <td>1</td>\n",
       "      <td>0</td>\n",
       "      <td>0</td>\n",
       "      <td>0</td>\n",
       "      <td>0</td>\n",
       "      <td>0</td>\n",
       "      <td>0</td>\n",
       "      <td>0</td>\n",
       "      <td>0</td>\n",
       "      <td>0</td>\n",
       "      <td>0</td>\n",
       "      <td>0</td>\n",
       "      <td>0</td>\n",
       "      <td>0</td>\n",
       "      <td>0</td>\n",
       "      <td>0</td>\n",
       "      <td>0</td>\n",
       "    </tr>\n",
       "  </tbody>\n",
       "</table>\n",
       "<p>5 rows × 84 columns</p>\n",
       "</div>"
      ],
      "text/plain": [
       "   transaction_year  price_per_sqm  remaining_lease_month  ...  sr_14  sr_15  sr_16\n",
       "0              2015        4250.00                  840.0  ...      0      0      0\n",
       "1              2015        4044.12                  780.0  ...      0      0      0\n",
       "2              2015        4130.43                  768.0  ...      0      0      0\n",
       "3              2015        4130.43                  756.0  ...      0      0      0\n",
       "4              2015        4264.71                  756.0  ...      0      0      0\n",
       "\n",
       "[5 rows x 84 columns]"
      ]
     },
     "execution_count": 10,
     "metadata": {
      "tags": []
     },
     "output_type": "execute_result"
    }
   ],
   "source": [
    "resaleflat1.head()"
   ]
  },
  {
   "cell_type": "code",
   "execution_count": 0,
   "metadata": {
    "colab": {},
    "colab_type": "code",
    "id": "1B-iNznK9VqI"
   },
   "outputs": [],
   "source": [
    "#resaleflat1.to_csv('/content/processed_data.csv')"
   ]
  },
  {
   "cell_type": "code",
   "execution_count": 12,
   "metadata": {
    "colab": {
     "base_uri": "https://localhost:8080/",
     "height": 1000
    },
    "colab_type": "code",
    "id": "mfB1Qsm44nj4",
    "outputId": "22f42a0d-eb65-41da-f4d1-6f0f212fb190"
   },
   "outputs": [
    {
     "name": "stdout",
     "output_type": "stream",
     "text": [
      "<class 'pandas.core.frame.DataFrame'>\n",
      "Int64Index: 106767 entries, 0 to 108929\n",
      "Data columns (total 84 columns):\n",
      "transaction_year             106767 non-null int64\n",
      "price_per_sqm                106767 non-null float64\n",
      "remaining_lease_month        106767 non-null float64\n",
      "postal                       106767 non-null int64\n",
      "mallCount                    106767 non-null float64\n",
      "busInterchangeCount          106767 non-null float64\n",
      "sportsCount                  106767 non-null float64\n",
      "hawkerCount                  106767 non-null float64\n",
      "npParkCount                  106767 non-null float64\n",
      "preschoolCount               106767 non-null float64\n",
      "primarySchCount              106767 non-null float64\n",
      "secondarySchCount            106767 non-null float64\n",
      "tertiarySchCount             106767 non-null float64\n",
      "dist_nearestMRT              106767 non-null float64\n",
      "town_ANG MO KIO              106767 non-null uint8\n",
      "town_BEDOK                   106767 non-null uint8\n",
      "town_BISHAN                  106767 non-null uint8\n",
      "town_BUKIT BATOK             106767 non-null uint8\n",
      "town_BUKIT MERAH             106767 non-null uint8\n",
      "town_BUKIT PANJANG           106767 non-null uint8\n",
      "town_BUKIT TIMAH             106767 non-null uint8\n",
      "town_CENTRAL AREA            106767 non-null uint8\n",
      "town_CHOA CHU KANG           106767 non-null uint8\n",
      "town_CLEMENTI                106767 non-null uint8\n",
      "town_GEYLANG                 106767 non-null uint8\n",
      "town_HOUGANG                 106767 non-null uint8\n",
      "town_JURONG EAST             106767 non-null uint8\n",
      "town_JURONG WEST             106767 non-null uint8\n",
      "town_KALLANG/WHAMPOA         106767 non-null uint8\n",
      "town_MARINE PARADE           106767 non-null uint8\n",
      "town_PASIR RIS               106767 non-null uint8\n",
      "town_PUNGGOL                 106767 non-null uint8\n",
      "town_QUEENSTOWN              106767 non-null uint8\n",
      "town_SEMBAWANG               106767 non-null uint8\n",
      "town_SENGKANG                106767 non-null uint8\n",
      "town_SERANGOON               106767 non-null uint8\n",
      "town_TAMPINES                106767 non-null uint8\n",
      "town_TOA PAYOH               106767 non-null uint8\n",
      "town_WOODLANDS               106767 non-null uint8\n",
      "town_YISHUN                  106767 non-null uint8\n",
      "ft_1 ROOM                    106767 non-null uint8\n",
      "ft_2 ROOM                    106767 non-null uint8\n",
      "ft_3 ROOM                    106767 non-null uint8\n",
      "ft_4 ROOM                    106767 non-null uint8\n",
      "ft_5 ROOM                    106767 non-null uint8\n",
      "ft_EXECUTIVE                 106767 non-null uint8\n",
      "ft_MULTI-GENERATION          106767 non-null uint8\n",
      "fm_2-room                    106767 non-null uint8\n",
      "fm_Adjoined flat             106767 non-null uint8\n",
      "fm_Apartment                 106767 non-null uint8\n",
      "fm_DBSS                      106767 non-null uint8\n",
      "fm_Improved                  106767 non-null uint8\n",
      "fm_Improved-Maisonette       106767 non-null uint8\n",
      "fm_Maisonette                106767 non-null uint8\n",
      "fm_Model A                   106767 non-null uint8\n",
      "fm_Model A-Maisonette        106767 non-null uint8\n",
      "fm_Model A2                  106767 non-null uint8\n",
      "fm_Multi Generation          106767 non-null uint8\n",
      "fm_New Generation            106767 non-null uint8\n",
      "fm_Premium Apartment         106767 non-null uint8\n",
      "fm_Premium Apartment Loft    106767 non-null uint8\n",
      "fm_Premium Maisonette        106767 non-null uint8\n",
      "fm_Simplified                106767 non-null uint8\n",
      "fm_Standard                  106767 non-null uint8\n",
      "fm_Terrace                   106767 non-null uint8\n",
      "fm_Type S1                   106767 non-null uint8\n",
      "fm_Type S2                   106767 non-null uint8\n",
      "sr_0                         106767 non-null uint8\n",
      "sr_1                         106767 non-null uint8\n",
      "sr_2                         106767 non-null uint8\n",
      "sr_3                         106767 non-null uint8\n",
      "sr_4                         106767 non-null uint8\n",
      "sr_5                         106767 non-null uint8\n",
      "sr_6                         106767 non-null uint8\n",
      "sr_7                         106767 non-null uint8\n",
      "sr_8                         106767 non-null uint8\n",
      "sr_9                         106767 non-null uint8\n",
      "sr_10                        106767 non-null uint8\n",
      "sr_11                        106767 non-null uint8\n",
      "sr_12                        106767 non-null uint8\n",
      "sr_13                        106767 non-null uint8\n",
      "sr_14                        106767 non-null uint8\n",
      "sr_15                        106767 non-null uint8\n",
      "sr_16                        106767 non-null uint8\n",
      "dtypes: float64(12), int64(2), uint8(70)\n",
      "memory usage: 19.3 MB\n"
     ]
    }
   ],
   "source": [
    "resaleflat1.info()"
   ]
  },
  {
   "cell_type": "code",
   "execution_count": 0,
   "metadata": {
    "colab": {},
    "colab_type": "code",
    "id": "Mkb8hDOpnBd8"
   },
   "outputs": [],
   "source": [
    "from sklearn.neural_network import MLPRegressor\n",
    "from sklearn.metrics import mean_squared_error\n",
    "from sklearn.preprocessing import StandardScaler, LabelEncoder\n",
    "from sklearn.model_selection import train_test_split"
   ]
  },
  {
   "cell_type": "code",
   "execution_count": 14,
   "metadata": {
    "colab": {
     "base_uri": "https://localhost:8080/",
     "height": 255
    },
    "colab_type": "code",
    "id": "v8lysDFJxure",
    "outputId": "0adcf116-b445-4903-a4d8-54854b624c75"
   },
   "outputs": [
    {
     "name": "stdout",
     "output_type": "stream",
     "text": [
      "(106767, 83)\n",
      "(106767,)\n"
     ]
    },
    {
     "data": {
      "text/plain": [
       "transaction_year           int64\n",
       "remaining_lease_month    float64\n",
       "postal                     int64\n",
       "mallCount                float64\n",
       "busInterchangeCount      float64\n",
       "                          ...   \n",
       "sr_12                      uint8\n",
       "sr_13                      uint8\n",
       "sr_14                      uint8\n",
       "sr_15                      uint8\n",
       "sr_16                      uint8\n",
       "Length: 83, dtype: object"
      ]
     },
     "execution_count": 14,
     "metadata": {
      "tags": []
     },
     "output_type": "execute_result"
    }
   ],
   "source": [
    "#Seperate datasets\n",
    "\n",
    "X = resaleflat1.drop('price_per_sqm', axis=1)\n",
    "Y = resaleflat1['price_per_sqm']\n",
    "\n",
    "print(X.shape)\n",
    "print(Y.shape)\n",
    "\n",
    "X.dtypes"
   ]
  },
  {
   "cell_type": "code",
   "execution_count": 0,
   "metadata": {
    "colab": {},
    "colab_type": "code",
    "id": "jk5oI7jOx9Yi"
   },
   "outputs": [],
   "source": [
    "x_train, x_test, y_train, y_test = train_test_split(X, Y, test_size=0.2, random_state=42)"
   ]
  },
  {
   "cell_type": "markdown",
   "metadata": {
    "colab_type": "text",
    "id": "sGucEJCFx_9d"
   },
   "source": [
    "**Neural Network**"
   ]
  },
  {
   "cell_type": "code",
   "execution_count": 0,
   "metadata": {
    "colab": {},
    "colab_type": "code",
    "id": "BH3H3UKXyD0g"
   },
   "outputs": [],
   "source": [
    "MLP_NN = MLPRegressor(hidden_layer_sizes=(40,40,40), max_iter=1500, alpha=1e-6, random_state=42)\n",
    "\n",
    "MLP_NN.fit(x_train,y_train)\n",
    "pred_MLP_NN = MLP_NN.predict(x_test)"
   ]
  },
  {
   "cell_type": "code",
   "execution_count": 17,
   "metadata": {
    "colab": {
     "base_uri": "https://localhost:8080/",
     "height": 51
    },
    "colab_type": "code",
    "id": "cHmfvVQ8yHWI",
    "outputId": "9b5e2f8f-df8d-400f-8fe3-9996981c6716"
   },
   "outputs": [
    {
     "data": {
      "text/plain": [
       "array([5905.0730071 , 4242.79661164, 3987.77640973, ..., 4311.80706692,\n",
       "       4415.57688566, 4993.11208136])"
      ]
     },
     "execution_count": 17,
     "metadata": {
      "tags": []
     },
     "output_type": "execute_result"
    }
   ],
   "source": [
    "pred_MLP_NN"
   ]
  },
  {
   "cell_type": "code",
   "execution_count": 18,
   "metadata": {
    "colab": {
     "base_uri": "https://localhost:8080/",
     "height": 119
    },
    "colab_type": "code",
    "id": "j_AFxI57EyXp",
    "outputId": "2abfaa94-52e7-49a9-e2de-efd939d3d958"
   },
   "outputs": [
    {
     "data": {
      "text/plain": [
       "103167    4611.65\n",
       "55895     3695.12\n",
       "27851     4272.73\n",
       "92728     3782.05\n",
       "19817     4217.69\n",
       "Name: price_per_sqm, dtype: float64"
      ]
     },
     "execution_count": 18,
     "metadata": {
      "tags": []
     },
     "output_type": "execute_result"
    }
   ],
   "source": [
    "y_test.head()"
   ]
  },
  {
   "cell_type": "code",
   "execution_count": 19,
   "metadata": {
    "colab": {
     "base_uri": "https://localhost:8080/",
     "height": 119
    },
    "colab_type": "code",
    "id": "f1EY26fcE2RD",
    "outputId": "680aeb13-c01c-4ada-e12a-ab2dce4256e0"
   },
   "outputs": [
    {
     "data": {
      "text/plain": [
       "103167   -1293.423007\n",
       "55895     -547.676612\n",
       "27851      284.953590\n",
       "92728     -621.472772\n",
       "19817     -403.144571\n",
       "Name: price_per_sqm, dtype: float64"
      ]
     },
     "execution_count": 19,
     "metadata": {
      "tags": []
     },
     "output_type": "execute_result"
    }
   ],
   "source": [
    "(y_test - pred_MLP_NN).head()"
   ]
  },
  {
   "cell_type": "code",
   "execution_count": 20,
   "metadata": {
    "colab": {
     "base_uri": "https://localhost:8080/",
     "height": 34
    },
    "colab_type": "code",
    "id": "6LX9X2luE5TT",
    "outputId": "3a9b3e3e-36e5-4bb1-e589-e6bc302d51a2"
   },
   "outputs": [
    {
     "data": {
      "text/plain": [
       "358.85698833013123"
      ]
     },
     "execution_count": 20,
     "metadata": {
      "tags": []
     },
     "output_type": "execute_result"
    }
   ],
   "source": [
    "#Let's see how our model performed\n",
    "\n",
    "import math\n",
    "\n",
    "math.sqrt(mean_squared_error(y_test, pred_MLP_NN, multioutput='uniform_average'))"
   ]
  },
  {
   "cell_type": "code",
   "execution_count": 21,
   "metadata": {
    "colab": {
     "base_uri": "https://localhost:8080/",
     "height": 34
    },
    "colab_type": "code",
    "id": "WoTzGzahE81z",
    "outputId": "6ffad5b4-80ac-40dd-b2b6-7192a7c289b9"
   },
   "outputs": [
    {
     "data": {
      "text/plain": [
       "1141.9846154030777"
      ]
     },
     "execution_count": 21,
     "metadata": {
      "tags": []
     },
     "output_type": "execute_result"
    }
   ],
   "source": [
    "#Find RMSE for baseline model - i.e. take average house price\n",
    "\n",
    "base = math.sqrt(((y_test - y_test.mean()) ** 2).mean())\n",
    "\n",
    "base\n",
    "\n",
    "#RMSE of $138415 for prediction of house price using average"
   ]
  },
  {
   "cell_type": "code",
   "execution_count": 22,
   "metadata": {
    "colab": {
     "base_uri": "https://localhost:8080/",
     "height": 34
    },
    "colab_type": "code",
    "id": "k89-OyPiFAZ-",
    "outputId": "61e4adda-5552-40ee-f98b-4ef1154e0581"
   },
   "outputs": [
    {
     "data": {
      "text/plain": [
       "358.8569883301316"
      ]
     },
     "execution_count": 22,
     "metadata": {
      "tags": []
     },
     "output_type": "execute_result"
    }
   ],
   "source": [
    "MLP_NN_diff = math.sqrt(((y_test - pred_MLP_NN) ** 2).mean())\n",
    "MLP_NN_diff\n",
    "\n",
    "#RMSE of $51868 using linear regression\n",
    "#RMSE of $32233 using random forest, 40 variables\n",
    "#RMSE of $32233 using random forest, 40 variables, with MRT distance\n",
    "#RMSE of $35801 using NN, layer 30,30, with MRT distance\n",
    "#RMSE of $37981 using NN, layer 20,20 with MRT distance\n",
    "#RMSE of $38650 using NN, layer 40,40 with MRT distance, no difference for iteration 800 and 1200\n",
    "#RMSE of $33218 using NN, layer 30,30,30 with MRT distance\n",
    "#RMSE of $32510 using NN, layer 30,30,30 with MRT distance"
   ]
  },
  {
   "cell_type": "code",
   "execution_count": 23,
   "metadata": {
    "colab": {
     "base_uri": "https://localhost:8080/",
     "height": 34
    },
    "colab_type": "code",
    "id": "J_G49HsyFDiw",
    "outputId": "a5ab18fb-1252-4f9e-9c62-e2f794c4a4f3"
   },
   "outputs": [
    {
     "data": {
      "text/plain": [
       "0.3142397747656772"
      ]
     },
     "execution_count": 23,
     "metadata": {
      "tags": []
     },
     "output_type": "execute_result"
    }
   ],
   "source": [
    "def RMSE(actual,predict):\n",
    "    base = math.sqrt(((actual - actual.mean()) ** 2).mean())\n",
    "    x = math.sqrt(((actual - predict) ** 2).mean())\n",
    "    return x/base\n",
    "\n",
    "RMSE(y_test, pred_MLP_NN)\n",
    "\n",
    "#RMSE of 0.2328 using random forest, 40 variables\n",
    "#RMSE of 0.1854 using random forest, 40 variables, with MRT\n",
    "#RMSE of 0.2586 using NN, layer 30,30, with MRT distance\n",
    "#RMSE of 0.2744 using NN, layer 20,20 with MRT distance\n",
    "#RMSE of 0.2792 using NN, layer 40,40 with MRT distance, no difference for iteration 800 and 1200\n",
    "#RMSE of 0.2399 using NN, layer 30,30,30 with MRT distance\n",
    "#RMSE of 0.2348 using NN, layer 30,30,30 with MRT distance"
   ]
  },
  {
   "cell_type": "code",
   "execution_count": 24,
   "metadata": {
    "colab": {
     "base_uri": "https://localhost:8080/",
     "height": 34
    },
    "colab_type": "code",
    "id": "Z1U2RgF5FGVd",
    "outputId": "40e29f1f-e294-4f85-8806-43a4d54d58f7"
   },
   "outputs": [
    {
     "data": {
      "text/plain": [
       "0.9012533639552164"
      ]
     },
     "execution_count": 24,
     "metadata": {
      "tags": []
     },
     "output_type": "execute_result"
    }
   ],
   "source": [
    "\n",
    "#Get R^2 of prediction in linear regression, 0.860\n",
    "#Get R^2 for random forest, 0.790\n",
    "#Get R^2 for random forest, 40 variables, 0.94577\n",
    "#Get R^2 for random forest, 40 variables, MRT, 0.9656\n",
    "#Get R^2 for neural network, (30,30) hidden layer, MRT, 0.9331\n",
    "#Get R^2 for neural network, (20,20) hidden layer, MRT, 0.9247\n",
    "#Get R^2 for neural network, (40,40) hidden layer, MRT, 0.9220, no difference for iteration 800 and 1200\n",
    "#Get R^2 for neural network, (30,30,30) hidden layer, MRT, 0.9424\n",
    "#Get R^2 for neural network, (40,40,40) hidden layer, MRT, 0.9448\n",
    "\n",
    "MLP_NN.score(x_test,y_test)"
   ]
  },
  {
   "cell_type": "code",
   "execution_count": 25,
   "metadata": {
    "colab": {
     "base_uri": "https://localhost:8080/",
     "height": 34
    },
    "colab_type": "code",
    "id": "eAEp_619L9qw",
    "outputId": "7808b013-23b3-4b8f-8cef-43b866d79b01"
   },
   "outputs": [
    {
     "data": {
      "text/plain": [
       "array([4611.65, 3695.12, 4272.73, ..., 3868.85, 4235.29, 4575.76])"
      ]
     },
     "execution_count": 25,
     "metadata": {
      "tags": []
     },
     "output_type": "execute_result"
    }
   ],
   "source": [
    "y_test.values"
   ]
  },
  {
   "cell_type": "code",
   "execution_count": 26,
   "metadata": {
    "colab": {
     "base_uri": "https://localhost:8080/",
     "height": 51
    },
    "colab_type": "code",
    "id": "YHod866FMBJO",
    "outputId": "5e382cd4-b43f-4ae2-8f8e-3da45e54f496"
   },
   "outputs": [
    {
     "data": {
      "text/plain": [
       "array([5905.0730071 , 4242.79661164, 3987.77640973, ..., 4311.80706692,\n",
       "       4415.57688566, 4993.11208136])"
      ]
     },
     "execution_count": 26,
     "metadata": {
      "tags": []
     },
     "output_type": "execute_result"
    }
   ],
   "source": [
    "pred_MLP_NN"
   ]
  },
  {
   "cell_type": "code",
   "execution_count": 0,
   "metadata": {
    "colab": {},
    "colab_type": "code",
    "id": "FUdT2_x5MFEV"
   },
   "outputs": [],
   "source": [
    "result1_df = pd.DataFrame({'actual': y_test.values.flatten(), 'predict': pred_MLP_NN.flatten(), 'difference':(y_test.values - pred_MLP_NN).flatten()})"
   ]
  },
  {
   "cell_type": "code",
   "execution_count": 28,
   "metadata": {
    "colab": {
     "base_uri": "https://localhost:8080/",
     "height": 419
    },
    "colab_type": "code",
    "id": "ZLD5Mqp_MOq4",
    "outputId": "a6087b7f-1dac-4105-fdaf-db5a0c6ec236"
   },
   "outputs": [
    {
     "data": {
      "text/html": [
       "<div>\n",
       "<style scoped>\n",
       "    .dataframe tbody tr th:only-of-type {\n",
       "        vertical-align: middle;\n",
       "    }\n",
       "\n",
       "    .dataframe tbody tr th {\n",
       "        vertical-align: top;\n",
       "    }\n",
       "\n",
       "    .dataframe thead th {\n",
       "        text-align: right;\n",
       "    }\n",
       "</style>\n",
       "<table border=\"1\" class=\"dataframe\">\n",
       "  <thead>\n",
       "    <tr style=\"text-align: right;\">\n",
       "      <th></th>\n",
       "      <th>actual</th>\n",
       "      <th>predict</th>\n",
       "      <th>difference</th>\n",
       "    </tr>\n",
       "  </thead>\n",
       "  <tbody>\n",
       "    <tr>\n",
       "      <th>0</th>\n",
       "      <td>4611.65</td>\n",
       "      <td>5905.073007</td>\n",
       "      <td>-1293.423007</td>\n",
       "    </tr>\n",
       "    <tr>\n",
       "      <th>1</th>\n",
       "      <td>3695.12</td>\n",
       "      <td>4242.796612</td>\n",
       "      <td>-547.676612</td>\n",
       "    </tr>\n",
       "    <tr>\n",
       "      <th>2</th>\n",
       "      <td>4272.73</td>\n",
       "      <td>3987.776410</td>\n",
       "      <td>284.953590</td>\n",
       "    </tr>\n",
       "    <tr>\n",
       "      <th>3</th>\n",
       "      <td>3782.05</td>\n",
       "      <td>4403.522772</td>\n",
       "      <td>-621.472772</td>\n",
       "    </tr>\n",
       "    <tr>\n",
       "      <th>4</th>\n",
       "      <td>4217.69</td>\n",
       "      <td>4620.834571</td>\n",
       "      <td>-403.144571</td>\n",
       "    </tr>\n",
       "    <tr>\n",
       "      <th>...</th>\n",
       "      <td>...</td>\n",
       "      <td>...</td>\n",
       "      <td>...</td>\n",
       "    </tr>\n",
       "    <tr>\n",
       "      <th>21349</th>\n",
       "      <td>7808.99</td>\n",
       "      <td>7867.498032</td>\n",
       "      <td>-58.508032</td>\n",
       "    </tr>\n",
       "    <tr>\n",
       "      <th>21350</th>\n",
       "      <td>4047.62</td>\n",
       "      <td>3739.653499</td>\n",
       "      <td>307.966501</td>\n",
       "    </tr>\n",
       "    <tr>\n",
       "      <th>21351</th>\n",
       "      <td>3868.85</td>\n",
       "      <td>4311.807067</td>\n",
       "      <td>-442.957067</td>\n",
       "    </tr>\n",
       "    <tr>\n",
       "      <th>21352</th>\n",
       "      <td>4235.29</td>\n",
       "      <td>4415.576886</td>\n",
       "      <td>-180.286886</td>\n",
       "    </tr>\n",
       "    <tr>\n",
       "      <th>21353</th>\n",
       "      <td>4575.76</td>\n",
       "      <td>4993.112081</td>\n",
       "      <td>-417.352081</td>\n",
       "    </tr>\n",
       "  </tbody>\n",
       "</table>\n",
       "<p>21354 rows × 3 columns</p>\n",
       "</div>"
      ],
      "text/plain": [
       "        actual      predict   difference\n",
       "0      4611.65  5905.073007 -1293.423007\n",
       "1      3695.12  4242.796612  -547.676612\n",
       "2      4272.73  3987.776410   284.953590\n",
       "3      3782.05  4403.522772  -621.472772\n",
       "4      4217.69  4620.834571  -403.144571\n",
       "...        ...          ...          ...\n",
       "21349  7808.99  7867.498032   -58.508032\n",
       "21350  4047.62  3739.653499   307.966501\n",
       "21351  3868.85  4311.807067  -442.957067\n",
       "21352  4235.29  4415.576886  -180.286886\n",
       "21353  4575.76  4993.112081  -417.352081\n",
       "\n",
       "[21354 rows x 3 columns]"
      ]
     },
     "execution_count": 28,
     "metadata": {
      "tags": []
     },
     "output_type": "execute_result"
    }
   ],
   "source": [
    "result1_df"
   ]
  },
  {
   "cell_type": "code",
   "execution_count": 29,
   "metadata": {
    "colab": {
     "base_uri": "https://localhost:8080/",
     "height": 68
    },
    "colab_type": "code",
    "id": "Rh1Mx2uAMTRI",
    "outputId": "3fb8913d-3988-4f3e-e382-b64889b536ae"
   },
   "outputs": [
    {
     "name": "stdout",
     "output_type": "stream",
     "text": [
      "-35.33298259555767\n",
      "2455.3357212614283\n",
      "-5534.455515061502\n"
     ]
    }
   ],
   "source": [
    "print(result1_df['difference'].mean())\n",
    "print(result1_df['difference'].max())\n",
    "print(result1_df['difference'].min())"
   ]
  },
  {
   "cell_type": "code",
   "execution_count": 30,
   "metadata": {
    "colab": {
     "base_uri": "https://localhost:8080/",
     "height": 49
    },
    "colab_type": "code",
    "id": "WOroM6chFjgU",
    "outputId": "913cc624-fbf3-4160-be97-6cae98fe7f8d"
   },
   "outputs": [
    {
     "data": {
      "text/html": [
       "<div>\n",
       "<style scoped>\n",
       "    .dataframe tbody tr th:only-of-type {\n",
       "        vertical-align: middle;\n",
       "    }\n",
       "\n",
       "    .dataframe tbody tr th {\n",
       "        vertical-align: top;\n",
       "    }\n",
       "\n",
       "    .dataframe thead th {\n",
       "        text-align: right;\n",
       "    }\n",
       "</style>\n",
       "<table border=\"1\" class=\"dataframe\">\n",
       "  <thead>\n",
       "    <tr style=\"text-align: right;\">\n",
       "      <th></th>\n",
       "      <th>actual</th>\n",
       "      <th>predict</th>\n",
       "      <th>difference</th>\n",
       "    </tr>\n",
       "  </thead>\n",
       "  <tbody>\n",
       "  </tbody>\n",
       "</table>\n",
       "</div>"
      ],
      "text/plain": [
       "Empty DataFrame\n",
       "Columns: [actual, predict, difference]\n",
       "Index: []"
      ]
     },
     "execution_count": 30,
     "metadata": {
      "tags": []
     },
     "output_type": "execute_result"
    }
   ],
   "source": [
    "result1_df[result1_df['difference'] > 100000]"
   ]
  },
  {
   "cell_type": "code",
   "execution_count": 31,
   "metadata": {
    "colab": {
     "base_uri": "https://localhost:8080/",
     "height": 49
    },
    "colab_type": "code",
    "id": "DRRllWKIFm1N",
    "outputId": "b7114e3c-f441-4e7c-ff53-89984df85a72"
   },
   "outputs": [
    {
     "data": {
      "text/html": [
       "<div>\n",
       "<style scoped>\n",
       "    .dataframe tbody tr th:only-of-type {\n",
       "        vertical-align: middle;\n",
       "    }\n",
       "\n",
       "    .dataframe tbody tr th {\n",
       "        vertical-align: top;\n",
       "    }\n",
       "\n",
       "    .dataframe thead th {\n",
       "        text-align: right;\n",
       "    }\n",
       "</style>\n",
       "<table border=\"1\" class=\"dataframe\">\n",
       "  <thead>\n",
       "    <tr style=\"text-align: right;\">\n",
       "      <th></th>\n",
       "      <th>actual</th>\n",
       "      <th>predict</th>\n",
       "      <th>difference</th>\n",
       "    </tr>\n",
       "  </thead>\n",
       "  <tbody>\n",
       "  </tbody>\n",
       "</table>\n",
       "</div>"
      ],
      "text/plain": [
       "Empty DataFrame\n",
       "Columns: [actual, predict, difference]\n",
       "Index: []"
      ]
     },
     "execution_count": 31,
     "metadata": {
      "tags": []
     },
     "output_type": "execute_result"
    }
   ],
   "source": [
    "result1_df[result1_df['difference'] < -100000]"
   ]
  },
  {
   "cell_type": "code",
   "execution_count": 32,
   "metadata": {
    "colab": {
     "base_uri": "https://localhost:8080/",
     "height": 408
    },
    "colab_type": "code",
    "id": "jGGvxJnOFwdd",
    "outputId": "bd26271c-466c-4792-d2e7-8e90c7e3f36c"
   },
   "outputs": [
    {
     "name": "stdout",
     "output_type": "stream",
     "text": [
      "Collecting rfpimp\n",
      "  Downloading https://files.pythonhosted.org/packages/2f/18/6cd65df0fc465332f1dd847ac236298974bd8b97daf0121744ed939600fd/rfpimp-1.3.4.tar.gz\n",
      "Requirement already satisfied: numpy in /usr/local/lib/python3.6/dist-packages (from rfpimp) (1.18.2)\n",
      "Requirement already satisfied: pandas in /usr/local/lib/python3.6/dist-packages (from rfpimp) (0.25.3)\n",
      "Requirement already satisfied: sklearn in /usr/local/lib/python3.6/dist-packages (from rfpimp) (0.0)\n",
      "Requirement already satisfied: matplotlib in /usr/local/lib/python3.6/dist-packages (from rfpimp) (3.2.0)\n",
      "Requirement already satisfied: pytz>=2017.2 in /usr/local/lib/python3.6/dist-packages (from pandas->rfpimp) (2018.9)\n",
      "Requirement already satisfied: python-dateutil>=2.6.1 in /usr/local/lib/python3.6/dist-packages (from pandas->rfpimp) (2.8.1)\n",
      "Requirement already satisfied: scikit-learn in /usr/local/lib/python3.6/dist-packages (from sklearn->rfpimp) (0.22.2.post1)\n",
      "Requirement already satisfied: pyparsing!=2.0.4,!=2.1.2,!=2.1.6,>=2.0.1 in /usr/local/lib/python3.6/dist-packages (from matplotlib->rfpimp) (2.4.6)\n",
      "Requirement already satisfied: cycler>=0.10 in /usr/local/lib/python3.6/dist-packages (from matplotlib->rfpimp) (0.10.0)\n",
      "Requirement already satisfied: kiwisolver>=1.0.1 in /usr/local/lib/python3.6/dist-packages (from matplotlib->rfpimp) (1.1.0)\n",
      "Requirement already satisfied: six>=1.5 in /usr/local/lib/python3.6/dist-packages (from python-dateutil>=2.6.1->pandas->rfpimp) (1.12.0)\n",
      "Requirement already satisfied: joblib>=0.11 in /usr/local/lib/python3.6/dist-packages (from scikit-learn->sklearn->rfpimp) (0.14.1)\n",
      "Requirement already satisfied: scipy>=0.17.0 in /usr/local/lib/python3.6/dist-packages (from scikit-learn->sklearn->rfpimp) (1.4.1)\n",
      "Requirement already satisfied: setuptools in /usr/local/lib/python3.6/dist-packages (from kiwisolver>=1.0.1->matplotlib->rfpimp) (46.0.0)\n",
      "Building wheels for collected packages: rfpimp\n",
      "  Building wheel for rfpimp (setup.py) ... \u001b[?25l\u001b[?25hdone\n",
      "  Created wheel for rfpimp: filename=rfpimp-1.3.4-cp36-none-any.whl size=10086 sha256=86f25b4f79fd57f8e17e030dc14cb7f723acd9707e07994226f1d2802041d69c\n",
      "  Stored in directory: /root/.cache/pip/wheels/c7/35/67/4065afd69df4c0be693ecdec8a9c1433a23f80ee60395272ba\n",
      "Successfully built rfpimp\n",
      "Installing collected packages: rfpimp\n",
      "Successfully installed rfpimp-1.3.4\n"
     ]
    }
   ],
   "source": [
    "!pip install rfpimp"
   ]
  },
  {
   "cell_type": "code",
   "execution_count": 33,
   "metadata": {
    "colab": {
     "base_uri": "https://localhost:8080/",
     "height": 71
    },
    "colab_type": "code",
    "id": "G1wq3_eAFrhP",
    "outputId": "495f3f21-b4f5-472d-db37-e7e6958cde29"
   },
   "outputs": [
    {
     "name": "stderr",
     "output_type": "stream",
     "text": [
      "/usr/local/lib/python3.6/dist-packages/sklearn/utils/deprecation.py:144: FutureWarning: The sklearn.ensemble.forest module is  deprecated in version 0.22 and will be removed in version 0.24. The corresponding classes / functions should instead be imported from sklearn.ensemble. Anything that cannot be imported from sklearn.ensemble is now part of the private API.\n",
      "  warnings.warn(message, FutureWarning)\n"
     ]
    }
   ],
   "source": [
    "from sklearn.metrics import r2_score\n",
    "from rfpimp import permutation_importances\n",
    "\n",
    "def r2(MLP_NN, x_train, y_train):\n",
    "    return r2_score(y_train, MLP_NN.predict(x_train))\n",
    "\n",
    "perm_imp_rfpimp = permutation_importances(MLP_NN, x_train, y_train, r2)"
   ]
  },
  {
   "cell_type": "code",
   "execution_count": 34,
   "metadata": {
    "colab": {
     "base_uri": "https://localhost:8080/",
     "height": 632
    },
    "colab_type": "code",
    "id": "oU64vp9cF17R",
    "outputId": "cae4ce66-a4e5-426f-a85c-4383140db548"
   },
   "outputs": [
    {
     "data": {
      "image/png": "[encoded data removed]",
      "text/plain": [
       "<Figure size 1080x720 with 1 Axes>"
      ]
     },
     "metadata": {
      "tags": []
     },
     "output_type": "display_data"
    }
   ],
   "source": [
    "# visualisations\n",
    "import seaborn as sns\n",
    "import matplotlib.pyplot as plt\n",
    "%matplotlib inline\n",
    "sns.set_style(\"whitegrid\")\n",
    "sns.set(rc = {'figure.figsize':(15, 10)})\n",
    "\n",
    "# plotting a feature importance dataframe (horizontal barchart)\n",
    "\n",
    "def var_imp_plot(imp_df, title):\n",
    "    imp_df = imp_df.reset_index()\n",
    "    imp_df.columns = ['feature', 'feature_importance']\n",
    "    sns.barplot(x = 'feature_importance', y = 'feature', data = imp_df, orient = 'h', color = 'royalblue').set_title(title, fontsize = 20)\n",
    "\n",
    "var_imp_plot(perm_imp_rfpimp, 'Permutation feature importance (rfpimp)')"
   ]
  },
  {
   "cell_type": "code",
   "execution_count": 35,
   "metadata": {
    "colab": {
     "base_uri": "https://localhost:8080/",
     "height": 450
    },
    "colab_type": "code",
    "id": "hlozAfDdF5eO",
    "outputId": "fa15e4fe-65d6-40e3-d11d-26fd946f1933"
   },
   "outputs": [
    {
     "data": {
      "text/html": [
       "<div>\n",
       "<style scoped>\n",
       "    .dataframe tbody tr th:only-of-type {\n",
       "        vertical-align: middle;\n",
       "    }\n",
       "\n",
       "    .dataframe tbody tr th {\n",
       "        vertical-align: top;\n",
       "    }\n",
       "\n",
       "    .dataframe thead th {\n",
       "        text-align: right;\n",
       "    }\n",
       "</style>\n",
       "<table border=\"1\" class=\"dataframe\">\n",
       "  <thead>\n",
       "    <tr style=\"text-align: right;\">\n",
       "      <th></th>\n",
       "      <th>Importance</th>\n",
       "    </tr>\n",
       "    <tr>\n",
       "      <th>Feature</th>\n",
       "      <th></th>\n",
       "    </tr>\n",
       "  </thead>\n",
       "  <tbody>\n",
       "    <tr>\n",
       "      <th>remaining_lease_month</th>\n",
       "      <td>0.495872</td>\n",
       "    </tr>\n",
       "    <tr>\n",
       "      <th>postal</th>\n",
       "      <td>0.425511</td>\n",
       "    </tr>\n",
       "    <tr>\n",
       "      <th>dist_nearestMRT</th>\n",
       "      <td>0.061775</td>\n",
       "    </tr>\n",
       "    <tr>\n",
       "      <th>town_SENGKANG</th>\n",
       "      <td>0.043983</td>\n",
       "    </tr>\n",
       "    <tr>\n",
       "      <th>town_BISHAN</th>\n",
       "      <td>0.040388</td>\n",
       "    </tr>\n",
       "    <tr>\n",
       "      <th>...</th>\n",
       "      <td>...</td>\n",
       "    </tr>\n",
       "    <tr>\n",
       "      <th>sr_10</th>\n",
       "      <td>-0.000021</td>\n",
       "    </tr>\n",
       "    <tr>\n",
       "      <th>town_KALLANG/WHAMPOA</th>\n",
       "      <td>-0.000048</td>\n",
       "    </tr>\n",
       "    <tr>\n",
       "      <th>ft_MULTI-GENERATION</th>\n",
       "      <td>-0.000052</td>\n",
       "    </tr>\n",
       "    <tr>\n",
       "      <th>town_BUKIT BATOK</th>\n",
       "      <td>-0.000105</td>\n",
       "    </tr>\n",
       "    <tr>\n",
       "      <th>transaction_year</th>\n",
       "      <td>-0.000274</td>\n",
       "    </tr>\n",
       "  </tbody>\n",
       "</table>\n",
       "<p>83 rows × 1 columns</p>\n",
       "</div>"
      ],
      "text/plain": [
       "                       Importance\n",
       "Feature                          \n",
       "remaining_lease_month    0.495872\n",
       "postal                   0.425511\n",
       "dist_nearestMRT          0.061775\n",
       "town_SENGKANG            0.043983\n",
       "town_BISHAN              0.040388\n",
       "...                           ...\n",
       "sr_10                   -0.000021\n",
       "town_KALLANG/WHAMPOA    -0.000048\n",
       "ft_MULTI-GENERATION     -0.000052\n",
       "town_BUKIT BATOK        -0.000105\n",
       "transaction_year        -0.000274\n",
       "\n",
       "[83 rows x 1 columns]"
      ]
     },
     "execution_count": 35,
     "metadata": {
      "tags": []
     },
     "output_type": "execute_result"
    }
   ],
   "source": [
    "perm_imp_rfpimp"
   ]
  },
  {
   "cell_type": "code",
   "execution_count": 0,
   "metadata": {
    "colab": {},
    "colab_type": "code",
    "id": "86fdYMpJ6YCU"
   },
   "outputs": [],
   "source": [
    "perm_imp_rfpimp.to_csv('/content/features.csv')"
   ]
  },
  {
   "cell_type": "code",
   "execution_count": 0,
   "metadata": {
    "colab": {},
    "colab_type": "code",
    "id": "_hw6V2KwxDgB"
   },
   "outputs": [],
   "source": []
  }
 ],
 "metadata": {
  "accelerator": "GPU",
  "colab": {
   "collapsed_sections": [],
   "name": "HDB_Project.ipynb",
   "provenance": []
  },
  "kernelspec": {
   "display_name": "Python 3",
   "language": "python",
   "name": "python3"
  },
  "language_info": {
   "codemirror_mode": {
    "name": "ipython",
    "version": 3
   },
   "file_extension": ".py",
   "mimetype": "text/x-python",
   "name": "python",
   "nbconvert_exporter": "python",
   "pygments_lexer": "ipython3",
   "version": "3.7.3"
  }
 },
 "nbformat": 4,
 "nbformat_minor": 1
}
